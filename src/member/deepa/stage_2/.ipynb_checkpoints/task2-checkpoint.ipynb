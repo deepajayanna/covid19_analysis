{
 "cells": [
  {
   "cell_type": "markdown",
   "metadata": {},
   "source": [
    "## Fit a distribution to the number of COVID-19 new cases of a state of your choosing."
   ]
  },
  {
   "cell_type": "markdown",
   "metadata": {},
   "source": [
    "## Getting the data"
   ]
  },
  {
   "cell_type": "code",
   "execution_count": 530,
   "metadata": {},
   "outputs": [],
   "source": [
    "import pandas as pd"
   ]
  },
  {
   "cell_type": "code",
   "execution_count": 531,
   "metadata": {},
   "outputs": [],
   "source": [
    "def get_state_data(state,dataset_type):\n",
    "    population_dataset = pd.read_csv('../../../../data/stage_2/covid_county_population_usafacts.csv')\n",
    "    population_df = pd.DataFrame(population_dataset)\n",
    "    if(dataset_type=='cases'):\n",
    "        dataset = pd.read_csv('../../../../data/stage_2/covid_confirmed_usafacts.csv')\n",
    "    elif(dataset_type=='deaths'):\n",
    "        dataset = pd.read_csv('../../../../data/stage_2/covid_deaths_usafacts.csv')\n",
    "    state_wise_data = dataset[confirmed_cases['County Name'] != 'Statewide Unallocated']\n",
    "    state_wise_data = state_wise_data.set_index(['countyFIPS','County Name','State','StateFIPS'])\n",
    "    everyday_new_cases = state_wise_data.diff(axis=1)\n",
    "    everyday_new_cases = everyday_new_cases.drop(columns = ['2020-01-22'])\n",
    "    merged_cases_perday = pd.merge(everyday_new_cases, population_df, on='countyFIPS', how ='inner' )\n",
    "    merged_cases_perday_state = merged_cases_perday[merged_cases_perday['State'] == state]\n",
    "    merged_cases_perday_state = merged_cases_perday_state.set_index(['countyFIPS','State','County Name'])\n",
    "    merged_cases_perday_state = round(((merged_cases_perday_state.div(merged_cases_perday_state['population'], axis=0))*100000).astype(int))\n",
    "    merged_cases_perday_state = merged_cases_perday_state.drop(columns = ['population'])\n",
    "    covid_cases_summed = merged_cases_perday_state.sum(axis = 0, skipna = True)\n",
    "    df = pd.DataFrame(columns=everyday_new_cases.columns)\n",
    "    df = df.append(covid_cases_summed, ignore_index=True)\n",
    "    return df"
   ]
  },
  {
   "cell_type": "markdown",
   "metadata": {},
   "source": [
    "## Fitting a distribution for NY new case\n",
    "## checking minimum, maximum and mean to see the insights of data"
   ]
  },
  {
   "cell_type": "code",
   "execution_count": 532,
   "metadata": {},
   "outputs": [],
   "source": [
    "def calculate_stats(dataframe, state):\n",
    "    print('Statistics of', state, 'state is shown below')\n",
    "    print('Minimum value --- ',dataframe.min(axis=1)[0])\n",
    "    print('Maximum value --- ',dataframe.max(axis=1)[0])\n",
    "    print('Mean --- ',dataframe.mean(axis=1)[0])\n",
    "    print('Mode --- ',dataframe.mode(axis=1)[0][0])\n",
    "    print('Variance --- ',dataframe.var(axis=1)[0])\n",
    "    print('Kurtosis --- ',dataframe.kurt(axis=1)[0])\n",
    "    print('Skewdness --- ',dataframe.skew(axis=1)[0])"
   ]
  },
  {
   "cell_type": "markdown",
   "metadata": {},
   "source": [
    "## First plot the histogram to see what distribution fits better\n",
    "In the below histogram it is evident that data is skewed to the right. Since I am using discrete values for plotting, I will use Poisson distribution to fit to the data"
   ]
  },
  {
   "cell_type": "code",
   "execution_count": 717,
   "metadata": {},
   "outputs": [
    {
     "name": "stdout",
     "output_type": "stream",
     "text": [
      "Statistics of Newyork state is shown below\n",
      "Minimum value ---  -219.0\n",
      "Maximum value ---  6610.0\n",
      "Mean ---  915.513986013986\n",
      "Mode ---  0\n",
      "Variance ---  1407841.8334292676\n",
      "Kurtosis ---  3.6811391812611043\n",
      "Skewdness ---  1.9278708316495297\n"
     ]
    }
   ],
   "source": [
    "ny_df = get_state_data('NY','cases')\n",
    "calculate_stats(ny_df, 'Newyork')"
   ]
  },
  {
   "cell_type": "code",
   "execution_count": 551,
   "metadata": {},
   "outputs": [
    {
     "data": {
      "text/plain": [
       "<AxesSubplot:>"
      ]
     },
     "execution_count": 551,
     "metadata": {},
     "output_type": "execute_result"
    },
    {
     "data": {
      "image/png": "[encoded data removed]",
      "text/plain": [
       "<Figure size 864x576 with 1 Axes>"
      ]
     },
     "metadata": {
      "needs_background": "light"
     },
     "output_type": "display_data"
    }
   ],
   "source": [
    "ny_df = ny_df.stack()\n",
    "ny_df.hist(density=True, bins=20, figsize=(12,8),ec=\"black\")"
   ]
  },
  {
   "cell_type": "code",
   "execution_count": 546,
   "metadata": {},
   "outputs": [],
   "source": [
    "def get_pmf(dataframe): \n",
    "    poiss_val = []\n",
    "    max_case = dataframe.max()\n",
    "    mean_case = dataframe.mean()\n",
    "    min_case = 0\n",
    "    for values in range(min_case, max_case):\n",
    "        pmf = poisson.pmf(k=values, mu=mean_case)\n",
    "        poiss_val.append(pmf)\n",
    "        \n",
    "    y_values = np.array(poiss_val)\n",
    "    x_values = np.arange(min_case, max_case, 1)\n",
    "    \n",
    "    return x_values, y_values\n",
    "    "
   ]
  },
  {
   "cell_type": "code",
   "execution_count": 603,
   "metadata": {},
   "outputs": [
    {
     "name": "stdout",
     "output_type": "stream",
     "text": [
      "PMF values         0\n",
      "0     0.0\n",
      "1     0.0\n",
      "2     0.0\n",
      "3     0.0\n",
      "4     0.0\n",
      "...   ...\n",
      "6605  0.0\n",
      "6606  0.0\n",
      "6607  0.0\n",
      "6608  0.0\n",
      "6609  0.0\n",
      "\n",
      "[6610 rows x 1 columns]\n"
     ]
    },
    {
     "data": {
      "image/png": "[encoded data removed]",
      "text/plain": [
       "<Figure size 432x288 with 1 Axes>"
      ]
     },
     "metadata": {
      "needs_background": "light"
     },
     "output_type": "display_data"
    }
   ],
   "source": [
    "x_ny,y_ny=get_pmf(ny_df)\n",
    "plt.plot(x_ny,y_ny)\n",
    "print('PMF values',pd.DataFrame(y_ny))"
   ]
  },
  {
   "cell_type": "markdown",
   "metadata": {},
   "source": [
    "## Comapring Newyork statistics with five other states "
   ]
  },
  {
   "cell_type": "markdown",
   "metadata": {},
   "source": [
    "## California"
   ]
  },
  {
   "cell_type": "code",
   "execution_count": 557,
   "metadata": {},
   "outputs": [
    {
     "name": "stdout",
     "output_type": "stream",
     "text": [
      "Statistics of California state is shown below\n",
      "Minimum value ---  -2665.0\n",
      "Maximum value ---  15142.0\n",
      "Mean ---  853.3111888111888\n",
      "Mode ---  0\n",
      "Variance ---  2005056.4879306331\n",
      "Kurtosis ---  21.131833195870506\n",
      "Skewdness ---  3.491664580546725\n"
     ]
    }
   ],
   "source": [
    "ca_df = get_state_data('CA','cases')\n",
    "calculate_stats(ca_df, 'California')"
   ]
  },
  {
   "cell_type": "code",
   "execution_count": 558,
   "metadata": {},
   "outputs": [
    {
     "data": {
      "text/plain": [
       "<AxesSubplot:>"
      ]
     },
     "execution_count": 558,
     "metadata": {},
     "output_type": "execute_result"
    },
    {
     "data": {
      "image/png": "[encoded data removed]",
      "text/plain": [
       "<Figure size 864x576 with 1 Axes>"
      ]
     },
     "metadata": {
      "needs_background": "light"
     },
     "output_type": "display_data"
    }
   ],
   "source": [
    "ca_df = ca_df.stack()\n",
    "ca_df.hist(density=True, bins=20, figsize=(12,8),ec=\"black\")"
   ]
  },
  {
   "cell_type": "code",
   "execution_count": 604,
   "metadata": {},
   "outputs": [
    {
     "name": "stdout",
     "output_type": "stream",
     "text": [
      "PMF values          0\n",
      "0      0.0\n",
      "1      0.0\n",
      "2      0.0\n",
      "3      0.0\n",
      "4      0.0\n",
      "...    ...\n",
      "15137  0.0\n",
      "15138  0.0\n",
      "15139  0.0\n",
      "15140  0.0\n",
      "15141  0.0\n",
      "\n",
      "[15142 rows x 1 columns]\n"
     ]
    },
    {
     "data": {
      "image/png": "[encoded data removed]",
      "text/plain": [
       "<Figure size 432x288 with 1 Axes>"
      ]
     },
     "metadata": {
      "needs_background": "light"
     },
     "output_type": "display_data"
    }
   ],
   "source": [
    "x_ca,y_ca=get_pmf(ca_df)\n",
    "plt.plot(x_ca,y_ca)\n",
    "print('PMF values',pd.DataFrame(y_ca))"
   ]
  },
  {
   "cell_type": "markdown",
   "metadata": {},
   "source": [
    "## Florida"
   ]
  },
  {
   "cell_type": "code",
   "execution_count": 560,
   "metadata": {},
   "outputs": [
    {
     "name": "stdout",
     "output_type": "stream",
     "text": [
      "Statistics of Florida state is shown below\n",
      "Minimum value ---  -7440.0\n",
      "Maximum value ---  50009.0\n",
      "Mean ---  1486.0104895104896\n",
      "Mode ---  0\n",
      "Variance ---  13454329.369416924\n",
      "Kurtosis ---  108.77769430544049\n",
      "Skewdness ---  9.574817227522471\n"
     ]
    }
   ],
   "source": [
    "fl_df = get_state_data('FL','cases')\n",
    "calculate_stats(fl_df, 'Florida')"
   ]
  },
  {
   "cell_type": "code",
   "execution_count": 561,
   "metadata": {},
   "outputs": [
    {
     "data": {
      "text/plain": [
       "<AxesSubplot:>"
      ]
     },
     "execution_count": 561,
     "metadata": {},
     "output_type": "execute_result"
    },
    {
     "data": {
      "image/png": "[encoded data removed]",
      "text/plain": [
       "<Figure size 864x576 with 1 Axes>"
      ]
     },
     "metadata": {
      "needs_background": "light"
     },
     "output_type": "display_data"
    }
   ],
   "source": [
    "fl_df = fl_df.stack()\n",
    "fl_df.hist(density=True, bins=20, figsize=(12,8),ec=\"black\")"
   ]
  },
  {
   "cell_type": "code",
   "execution_count": 605,
   "metadata": {},
   "outputs": [
    {
     "name": "stdout",
     "output_type": "stream",
     "text": [
      "PMF values          0\n",
      "0      0.0\n",
      "1      0.0\n",
      "2      0.0\n",
      "3      0.0\n",
      "4      0.0\n",
      "...    ...\n",
      "50004  0.0\n",
      "50005  0.0\n",
      "50006  0.0\n",
      "50007  0.0\n",
      "50008  0.0\n",
      "\n",
      "[50009 rows x 1 columns]\n"
     ]
    },
    {
     "data": {
      "image/png": "[encoded data removed]",
      "text/plain": [
       "<Figure size 432x288 with 1 Axes>"
      ]
     },
     "metadata": {
      "needs_background": "light"
     },
     "output_type": "display_data"
    }
   ],
   "source": [
    "x_fl,y_fl=get_pmf(fl_df)\n",
    "plt.plot(x_fl,y_fl)\n",
    "print('PMF values',pd.DataFrame(y_fl))"
   ]
  },
  {
   "cell_type": "markdown",
   "metadata": {},
   "source": [
    "## South Carolina"
   ]
  },
  {
   "cell_type": "code",
   "execution_count": 564,
   "metadata": {},
   "outputs": [
    {
     "name": "stdout",
     "output_type": "stream",
     "text": [
      "Statistics of South Carolina state is shown below\n",
      "Minimum value ---  -2354.0\n",
      "Maximum value ---  9180.0\n",
      "Mean ---  997.4055944055945\n",
      "Mode ---  0\n",
      "Variance ---  1584449.5935238143\n",
      "Kurtosis ---  7.128442374549989\n",
      "Skewdness ---  2.263158160016531\n"
     ]
    }
   ],
   "source": [
    "sc_df = get_state_data('SC','cases')\n",
    "calculate_stats(sc_df, 'South Carolina')"
   ]
  },
  {
   "cell_type": "code",
   "execution_count": 565,
   "metadata": {},
   "outputs": [
    {
     "data": {
      "text/plain": [
       "<AxesSubplot:>"
      ]
     },
     "execution_count": 565,
     "metadata": {},
     "output_type": "execute_result"
    },
    {
     "data": {
      "image/png": "[encoded data removed]",
      "text/plain": [
       "<Figure size 864x576 with 1 Axes>"
      ]
     },
     "metadata": {
      "needs_background": "light"
     },
     "output_type": "display_data"
    }
   ],
   "source": [
    "sc_df = sc_df.stack()\n",
    "sc_df.hist(density=True, bins=20, figsize=(12,8),ec=\"black\")"
   ]
  },
  {
   "cell_type": "code",
   "execution_count": 606,
   "metadata": {},
   "outputs": [
    {
     "name": "stdout",
     "output_type": "stream",
     "text": [
      "PMF values         0\n",
      "0     0.0\n",
      "1     0.0\n",
      "2     0.0\n",
      "3     0.0\n",
      "4     0.0\n",
      "...   ...\n",
      "9175  0.0\n",
      "9176  0.0\n",
      "9177  0.0\n",
      "9178  0.0\n",
      "9179  0.0\n",
      "\n",
      "[9180 rows x 1 columns]\n"
     ]
    },
    {
     "data": {
      "image/png": "[encoded data removed]",
      "text/plain": [
       "<Figure size 432x288 with 1 Axes>"
      ]
     },
     "metadata": {
      "needs_background": "light"
     },
     "output_type": "display_data"
    }
   ],
   "source": [
    "x_sc,y_sc=get_pmf(sc_df)\n",
    "plt.plot(x_sc,y_sc)\n",
    "print('PMF values',pd.DataFrame(y_sc))"
   ]
  },
  {
   "cell_type": "markdown",
   "metadata": {},
   "source": [
    "## Texas"
   ]
  },
  {
   "cell_type": "code",
   "execution_count": 150,
   "metadata": {},
   "outputs": [
    {
     "name": "stdout",
     "output_type": "stream",
     "text": [
      "Statistics of Texas state is shown below\n",
      "Minimum value ---  -669959.0\n",
      "Maximum value ---  673907.0\n",
      "Mean ---  5153.388111888112\n",
      "Mode ---  0\n",
      "Variance ---  1811466047.7090003\n",
      "Kurtosis ---  223.03294084578965\n",
      "Skewdness ---  0.6085739073539245\n"
     ]
    }
   ],
   "source": [
    "tx_df = get_state_data('TX','cases')\n",
    "calculate_stats(tx_df, 'Texas')"
   ]
  },
  {
   "cell_type": "code",
   "execution_count": 569,
   "metadata": {},
   "outputs": [
    {
     "data": {
      "text/plain": [
       "<AxesSubplot:>"
      ]
     },
     "execution_count": 569,
     "metadata": {},
     "output_type": "execute_result"
    },
    {
     "data": {
      "image/png": "[encoded data removed]",
      "text/plain": [
       "<Figure size 864x576 with 1 Axes>"
      ]
     },
     "metadata": {
      "needs_background": "light"
     },
     "output_type": "display_data"
    }
   ],
   "source": [
    "tx_df = tx_df.stack()\n",
    "tx_df.hist(density=True, bins=20, figsize=(12,8),ec=\"black\")"
   ]
  },
  {
   "cell_type": "code",
   "execution_count": 607,
   "metadata": {},
   "outputs": [
    {
     "name": "stdout",
     "output_type": "stream",
     "text": [
      "PMF values           0\n",
      "0       0.0\n",
      "1       0.0\n",
      "2       0.0\n",
      "3       0.0\n",
      "4       0.0\n",
      "...     ...\n",
      "673902  0.0\n",
      "673903  0.0\n",
      "673904  0.0\n",
      "673905  0.0\n",
      "673906  0.0\n",
      "\n",
      "[673907 rows x 1 columns]\n"
     ]
    },
    {
     "data": {
      "image/png": "[encoded data removed]",
      "text/plain": [
       "<Figure size 432x288 with 1 Axes>"
      ]
     },
     "metadata": {
      "needs_background": "light"
     },
     "output_type": "display_data"
    }
   ],
   "source": [
    "x_tx,y_tx=get_pmf(tx_df)\n",
    "plt.plot(x_tx,y_tx)\n",
    "print('PMF values',pd.DataFrame(y_tx))"
   ]
  },
  {
   "cell_type": "markdown",
   "metadata": {},
   "source": [
    "## Arizona"
   ]
  },
  {
   "cell_type": "code",
   "execution_count": 608,
   "metadata": {},
   "outputs": [
    {
     "name": "stdout",
     "output_type": "stream",
     "text": [
      "Statistics of Arizona state is shown below\n",
      "Minimum value ---  0.0\n",
      "Maximum value ---  15124.0\n",
      "Mean ---  1794.1241258741259\n",
      "Mode ---  0\n",
      "Variance ---  4978716.175458955\n",
      "Kurtosis ---  3.8290526961352103\n",
      "Skewdness ---  1.8493485393173823\n"
     ]
    }
   ],
   "source": [
    "ar_df = get_state_data('AR','cases')\n",
    "calculate_stats(ar_df, 'Arizona')"
   ]
  },
  {
   "cell_type": "code",
   "execution_count": 609,
   "metadata": {},
   "outputs": [
    {
     "data": {
      "text/plain": [
       "<AxesSubplot:>"
      ]
     },
     "execution_count": 609,
     "metadata": {},
     "output_type": "execute_result"
    },
    {
     "data": {
      "image/png": "[encoded data removed]",
      "text/plain": [
       "<Figure size 864x576 with 1 Axes>"
      ]
     },
     "metadata": {
      "needs_background": "light"
     },
     "output_type": "display_data"
    }
   ],
   "source": [
    "ar_df = ar_df.stack()\n",
    "ar_df.hist(density=True, bins=20, figsize=(12,8),ec=\"black\")"
   ]
  },
  {
   "cell_type": "code",
   "execution_count": 610,
   "metadata": {},
   "outputs": [
    {
     "name": "stdout",
     "output_type": "stream",
     "text": [
      "PMF values          0\n",
      "0      0.0\n",
      "1      0.0\n",
      "2      0.0\n",
      "3      0.0\n",
      "4      0.0\n",
      "...    ...\n",
      "15119  0.0\n",
      "15120  0.0\n",
      "15121  0.0\n",
      "15122  0.0\n",
      "15123  0.0\n",
      "\n",
      "[15124 rows x 1 columns]\n"
     ]
    },
    {
     "data": {
      "image/png": "[encoded data removed]",
      "text/plain": [
       "<Figure size 432x288 with 1 Axes>"
      ]
     },
     "metadata": {
      "needs_background": "light"
     },
     "output_type": "display_data"
    }
   ],
   "source": [
    "x_ar,y_ar=get_pmf(ar_df)\n",
    "plt.plot(x_ar,y_ar)\n",
    "print('PMF values',pd.DataFrame(y_ar))"
   ]
  },
  {
   "cell_type": "markdown",
   "metadata": {},
   "source": [
    "## Death Case Analysis"
   ]
  },
  {
   "cell_type": "markdown",
   "metadata": {},
   "source": [
    "## Inital state chosen is Newyork"
   ]
  },
  {
   "cell_type": "code",
   "execution_count": 574,
   "metadata": {},
   "outputs": [
    {
     "name": "stdout",
     "output_type": "stream",
     "text": [
      "Statistics of Newyork state is shown below\n",
      "Minimum value ---  -205.0\n",
      "Maximum value ---  257.0\n",
      "Mean ---  11.662587412587413\n",
      "Mode ---  0\n",
      "Variance ---  719.2397186876171\n",
      "Kurtosis ---  36.2634174939987\n",
      "Skewdness ---  3.3319082372957656\n"
     ]
    }
   ],
   "source": [
    "ny_death_df = get_state_data('NY','deaths')\n",
    "calculate_stats(ny_death_df, 'Newyork')"
   ]
  },
  {
   "cell_type": "code",
   "execution_count": 575,
   "metadata": {},
   "outputs": [
    {
     "data": {
      "text/plain": [
       "<AxesSubplot:>"
      ]
     },
     "execution_count": 575,
     "metadata": {},
     "output_type": "execute_result"
    },
    {
     "data": {
      "image/png": "[encoded data removed]",
      "text/plain": [
       "<Figure size 864x576 with 1 Axes>"
      ]
     },
     "metadata": {
      "needs_background": "light"
     },
     "output_type": "display_data"
    }
   ],
   "source": [
    "ny_death_df = ny_death_df.stack()\n",
    "ny_death_df.hist(density=True, bins=20, figsize=(12,8),ec=\"black\")"
   ]
  },
  {
   "cell_type": "code",
   "execution_count": 599,
   "metadata": {},
   "outputs": [
    {
     "name": "stdout",
     "output_type": "stream",
     "text": [
      "PMF values                  0\n",
      "0     8.609990e-06\n",
      "1     1.004148e-04\n",
      "2     5.855480e-04\n",
      "3     2.276335e-03\n",
      "4     6.636988e-03\n",
      "..             ...\n",
      "252  2.861935e-234\n",
      "253  1.319271e-235\n",
      "254  6.057527e-237\n",
      "255  2.770449e-238\n",
      "256  1.262133e-239\n",
      "\n",
      "[257 rows x 1 columns]\n"
     ]
    },
    {
     "data": {
      "image/png": "[encoded data removed]",
      "text/plain": [
       "<Figure size 432x288 with 1 Axes>"
      ]
     },
     "metadata": {
      "needs_background": "light"
     },
     "output_type": "display_data"
    }
   ],
   "source": [
    "x_ny_death,y_ny_death=get_pmf(ny_death_df)\n",
    "plt.plot(x_ny_death,y_ny_death)\n",
    "print('PMF values',pd.DataFrame(y_ny_death))"
   ]
  },
  {
   "cell_type": "markdown",
   "metadata": {},
   "source": [
    "## Comparing Newyork with 5 other states"
   ]
  },
  {
   "cell_type": "markdown",
   "metadata": {},
   "source": [
    "## California"
   ]
  },
  {
   "cell_type": "code",
   "execution_count": 577,
   "metadata": {},
   "outputs": [
    {
     "name": "stdout",
     "output_type": "stream",
     "text": [
      "Statistics of California state is shown below\n",
      "Minimum value ---  -250.0\n",
      "Maximum value ---  82.0\n",
      "Mean ---  6.449300699300699\n",
      "Mode ---  0\n",
      "Variance ---  294.7032044137998\n",
      "Kurtosis ---  90.21809324034417\n",
      "Skewdness ---  -4.9844541304614935\n"
     ]
    }
   ],
   "source": [
    "ca_death_df = get_state_data('CA','deaths')\n",
    "calculate_stats(ca_death_df, 'California')"
   ]
  },
  {
   "cell_type": "code",
   "execution_count": 578,
   "metadata": {},
   "outputs": [
    {
     "data": {
      "text/plain": [
       "<AxesSubplot:>"
      ]
     },
     "execution_count": 578,
     "metadata": {},
     "output_type": "execute_result"
    },
    {
     "data": {
      "image/png": "[encoded data removed]",
      "text/plain": [
       "<Figure size 864x576 with 1 Axes>"
      ]
     },
     "metadata": {
      "needs_background": "light"
     },
     "output_type": "display_data"
    }
   ],
   "source": [
    "ca_death_df = ca_death_df.stack()\n",
    "ca_death_df.hist(density=True, bins=20, figsize=(12,8),ec=\"black\")"
   ]
  },
  {
   "cell_type": "code",
   "execution_count": 598,
   "metadata": {},
   "outputs": [
    {
     "name": "stdout",
     "output_type": "stream",
     "text": [
      "PMF values                0\n",
      "0   1.581628e-03\n",
      "1   1.020039e-02\n",
      "2   3.289270e-02\n",
      "3   7.071164e-02\n",
      "4   1.140102e-01\n",
      "..           ...\n",
      "77  2.342397e-54\n",
      "78  1.936772e-55\n",
      "79  1.581117e-56\n",
      "80  1.274637e-57\n",
      "81  1.014879e-58\n",
      "\n",
      "[82 rows x 1 columns]\n"
     ]
    },
    {
     "data": {
      "image/png": "[encoded data removed]",
      "text/plain": [
       "<Figure size 432x288 with 1 Axes>"
      ]
     },
     "metadata": {
      "needs_background": "light"
     },
     "output_type": "display_data"
    }
   ],
   "source": [
    "x_ca_death,y_ca_death=get_pmf(ca_death_df)\n",
    "plt.plot(x_ca_death,y_ca_death)\n",
    "print('PMF values',pd.DataFrame(y_ca_death))"
   ]
  },
  {
   "cell_type": "markdown",
   "metadata": {},
   "source": [
    "## Florida"
   ]
  },
  {
   "cell_type": "code",
   "execution_count": 580,
   "metadata": {},
   "outputs": [
    {
     "name": "stdout",
     "output_type": "stream",
     "text": [
      "Statistics of Florida state is shown below\n",
      "Minimum value ---  -29.0\n",
      "Maximum value ---  121.0\n",
      "Mean ---  16.124125874125873\n",
      "Mode ---  0\n",
      "Variance ---  446.67983723806844\n",
      "Kurtosis ---  2.8725917743001337\n",
      "Skewdness ---  1.6246889207670872\n"
     ]
    }
   ],
   "source": [
    "fl_death_df = get_state_data('FL','deaths')\n",
    "calculate_stats(fl_death_df, 'Florida')"
   ]
  },
  {
   "cell_type": "code",
   "execution_count": 581,
   "metadata": {},
   "outputs": [
    {
     "data": {
      "text/plain": [
       "<AxesSubplot:>"
      ]
     },
     "execution_count": 581,
     "metadata": {},
     "output_type": "execute_result"
    },
    {
     "data": {
      "image/png": "[encoded data removed]",
      "text/plain": [
       "<Figure size 864x576 with 1 Axes>"
      ]
     },
     "metadata": {
      "needs_background": "light"
     },
     "output_type": "display_data"
    }
   ],
   "source": [
    "fl_death_df = fl_death_df.stack()\n",
    "fl_death_df.hist(density=True, bins=20, figsize=(12,8),ec=\"black\")"
   ]
  },
  {
   "cell_type": "code",
   "execution_count": 597,
   "metadata": {},
   "outputs": [
    {
     "name": "stdout",
     "output_type": "stream",
     "text": [
      "PMF values                 0\n",
      "0    9.939879e-08\n",
      "1    1.602719e-06\n",
      "2    1.292122e-05\n",
      "3    6.944778e-05\n",
      "4    2.799462e-04\n",
      "..            ...\n",
      "116  3.419953e-58\n",
      "117  4.713142e-59\n",
      "118  6.440279e-60\n",
      "119  8.726376e-61\n",
      "120  1.172543e-61\n",
      "\n",
      "[121 rows x 1 columns]\n"
     ]
    },
    {
     "data": {
      "image/png": "[encoded data removed]",
      "text/plain": [
       "<Figure size 432x288 with 1 Axes>"
      ]
     },
     "metadata": {
      "needs_background": "light"
     },
     "output_type": "display_data"
    }
   ],
   "source": [
    "x_fl_death,y_fl_death=get_pmf(fl_death_df)\n",
    "plt.plot(x_fl_death,y_fl_death)\n",
    "print('PMF values',pd.DataFrame(y_fl_death))"
   ]
  },
  {
   "cell_type": "markdown",
   "metadata": {},
   "source": [
    "## South California"
   ]
  },
  {
   "cell_type": "code",
   "execution_count": 583,
   "metadata": {},
   "outputs": [
    {
     "name": "stdout",
     "output_type": "stream",
     "text": [
      "Statistics of South Carolina state is shown below\n",
      "Minimum value ---  -13.0\n",
      "Maximum value ---  247.0\n",
      "Mean ---  15.013986013986013\n",
      "Mode ---  0\n",
      "Variance ---  594.3500667458635\n",
      "Kurtosis ---  34.24211971309584\n",
      "Skewdness ---  4.667633249626412\n"
     ]
    }
   ],
   "source": [
    "sc_death_df = get_state_data('SC','deaths')\n",
    "calculate_stats(sc_death_df, 'South Carolina')"
   ]
  },
  {
   "cell_type": "code",
   "execution_count": 584,
   "metadata": {},
   "outputs": [
    {
     "data": {
      "text/plain": [
       "<AxesSubplot:>"
      ]
     },
     "execution_count": 584,
     "metadata": {},
     "output_type": "execute_result"
    },
    {
     "data": {
      "image/png": "[encoded data removed]",
      "text/plain": [
       "<Figure size 864x576 with 1 Axes>"
      ]
     },
     "metadata": {
      "needs_background": "light"
     },
     "output_type": "display_data"
    }
   ],
   "source": [
    "sc_death_df = sc_death_df.stack()\n",
    "sc_death_df.hist(density=True, bins=20, figsize=(12,8),ec=\"black\")"
   ]
  },
  {
   "cell_type": "code",
   "execution_count": 596,
   "metadata": {},
   "outputs": [
    {
     "name": "stdout",
     "output_type": "stream",
     "text": [
      "PMF values                  0\n",
      "0     3.016537e-07\n",
      "1     4.529025e-06\n",
      "2     3.399936e-05\n",
      "3     1.701553e-04\n",
      "4     6.386773e-04\n",
      "..             ...\n",
      "242  6.551508e-196\n",
      "243  4.047912e-197\n",
      "244  2.490791e-198\n",
      "245  1.526396e-199\n",
      "246  9.315969e-201\n",
      "\n",
      "[247 rows x 1 columns]\n"
     ]
    },
    {
     "data": {
      "image/png": "[encoded data removed]",
      "text/plain": [
       "<Figure size 432x288 with 1 Axes>"
      ]
     },
     "metadata": {
      "needs_background": "light"
     },
     "output_type": "display_data"
    }
   ],
   "source": [
    "x_sc_death,y_sc_death=get_pmf(sc_death_df)\n",
    "plt.plot(x_sc_death,y_sc_death)\n",
    "print('PMF values',pd.DataFrame(y_sc_death))"
   ]
  },
  {
   "cell_type": "markdown",
   "metadata": {},
   "source": [
    "## Texas"
   ]
  },
  {
   "cell_type": "code",
   "execution_count": 586,
   "metadata": {},
   "outputs": [
    {
     "name": "stdout",
     "output_type": "stream",
     "text": [
      "Statistics of Texas state is shown below\n",
      "Minimum value ---  -41.0\n",
      "Maximum value ---  2296.0\n",
      "Mean ---  110.61363636363636\n",
      "Mode ---  0\n",
      "Variance ---  35248.63680146474\n",
      "Kurtosis ---  35.80785276705338\n",
      "Skewdness ---  4.41554329110284\n"
     ]
    }
   ],
   "source": [
    "tx_death_df = get_state_data('TX','deaths')\n",
    "calculate_stats(tx_death_df, 'Texas')"
   ]
  },
  {
   "cell_type": "code",
   "execution_count": 587,
   "metadata": {},
   "outputs": [
    {
     "data": {
      "text/plain": [
       "<AxesSubplot:>"
      ]
     },
     "execution_count": 587,
     "metadata": {},
     "output_type": "execute_result"
    },
    {
     "data": {
      "image/png": "[encoded data removed]",
      "text/plain": [
       "<Figure size 864x576 with 1 Axes>"
      ]
     },
     "metadata": {
      "needs_background": "light"
     },
     "output_type": "display_data"
    }
   ],
   "source": [
    "tx_death_df = tx_death_df.stack()\n",
    "tx_death_df.hist(density=True, bins=20, figsize=(12,8),ec=\"black\")"
   ]
  },
  {
   "cell_type": "code",
   "execution_count": 595,
   "metadata": {},
   "outputs": [
    {
     "name": "stdout",
     "output_type": "stream",
     "text": [
      "PMF values                  0\n",
      "0     9.143408e-49\n",
      "1     1.011386e-46\n",
      "2     5.593652e-45\n",
      "3     2.062447e-43\n",
      "4     5.703370e-42\n",
      "...            ...\n",
      "2291  0.000000e+00\n",
      "2292  0.000000e+00\n",
      "2293  0.000000e+00\n",
      "2294  0.000000e+00\n",
      "2295  0.000000e+00\n",
      "\n",
      "[2296 rows x 1 columns]\n"
     ]
    },
    {
     "data": {
      "image/png": "[encoded data removed]",
      "text/plain": [
       "<Figure size 432x288 with 1 Axes>"
      ]
     },
     "metadata": {
      "needs_background": "light"
     },
     "output_type": "display_data"
    }
   ],
   "source": [
    "x_tx_death,y_tx_death=get_pmf(tx_death_df)\n",
    "plt.plot(x_tx_death,y_tx_death)\n",
    "print('PMF values',pd.DataFrame(y_tx_death))"
   ]
  },
  {
   "cell_type": "markdown",
   "metadata": {},
   "source": [
    "## Arizona"
   ]
  },
  {
   "cell_type": "code",
   "execution_count": 589,
   "metadata": {},
   "outputs": [
    {
     "name": "stdout",
     "output_type": "stream",
     "text": [
      "Statistics of Arizona state is shown below\n",
      "Minimum value ---  -167.0\n",
      "Maximum value ---  343.0\n",
      "Mean ---  29.28846153846154\n",
      "Mode ---  0\n",
      "Variance ---  1830.6434393102518\n",
      "Kurtosis ---  7.917277312038623\n",
      "Skewdness ---  2.0707088056304004\n"
     ]
    }
   ],
   "source": [
    "ar_death_df = get_state_data('AR','deaths')\n",
    "calculate_stats(ar_death_df, 'Arizona')"
   ]
  },
  {
   "cell_type": "code",
   "execution_count": 590,
   "metadata": {},
   "outputs": [
    {
     "data": {
      "text/plain": [
       "<AxesSubplot:>"
      ]
     },
     "execution_count": 590,
     "metadata": {},
     "output_type": "execute_result"
    },
    {
     "data": {
      "image/png": "[encoded data removed]",
      "text/plain": [
       "<Figure size 864x576 with 1 Axes>"
      ]
     },
     "metadata": {
      "needs_background": "light"
     },
     "output_type": "display_data"
    }
   ],
   "source": [
    "ar_death_df = ar_death_df.stack()\n",
    "ar_death_df.hist(density=True, bins=20, figsize=(12,8),ec=\"black\")"
   ]
  },
  {
   "cell_type": "code",
   "execution_count": 594,
   "metadata": {},
   "outputs": [
    {
     "name": "stdout",
     "output_type": "stream",
     "text": [
      "PMF values                  0\n",
      "0     1.906263e-13\n",
      "1     5.583150e-12\n",
      "2     8.176094e-11\n",
      "3     7.982174e-10\n",
      "4     5.844640e-09\n",
      "..             ...\n",
      "338  2.385914e-227\n",
      "339  2.061350e-228\n",
      "340  1.775699e-229\n",
      "341  1.525146e-230\n",
      "342  1.306117e-231\n",
      "\n",
      "[343 rows x 1 columns]\n"
     ]
    },
    {
     "data": {
      "image/png": "[encoded data removed]",
      "text/plain": [
       "<Figure size 432x288 with 1 Axes>"
      ]
     },
     "metadata": {
      "needs_background": "light"
     },
     "output_type": "display_data"
    }
   ],
   "source": [
    "x_ar_death,y_ar_death=get_pmf(ar_death_df)\n",
    "plt.plot(x_ar_death,y_ar_death)\n",
    "print('PMF values',pd.DataFrame(y_ar_death))"
   ]
  },
  {
   "cell_type": "markdown",
   "metadata": {},
   "source": [
    "## Model a poission distribution of COVID-19 cases of a state and compare to other 5 states."
   ]
  },
  {
   "cell_type": "code",
   "execution_count": 142,
   "metadata": {},
   "outputs": [],
   "source": [
    "from scipy.stats.distributions import poisson\n",
    "import scipy.stats as stats\n",
    "import matplotlib.pyplot as plt\n",
    "import numpy as np\n",
    "\n",
    "def plot_poisson(dataframe):\n",
    "    poiss_values = []\n",
    "    min_case = 0\n",
    "    max_case = dataframe.max(axis=1)[0].astype(int)\n",
    "    mean_case = dataframe.mean(axis=1)[0].astype(int)\n",
    "    poisson_newcases = pd.DataFrame(columns = ['k', 'mu', 'prob_mass_function'])\n",
    "    ny_cases_poisson = poisson.rvs(size=100000,mu=dataframe.stack().mean())\n",
    "    for values in range(min_case,max_case):\n",
    "        poisson_newcases = poisson_newcases.append({'k': values, 'mu': mean_case, 'prob_mass_function': poisson.pmf(k=values,mu=mean_case)}, ignore_index=True)\n",
    "    pd.DataFrame(ny_cases_poisson).hist(density=True,range=(-0.5,max(ny_cases_poisson)+0.5), bins=max(ny_cases_poisson)+1, figsize=(12,8), ec='blue')    \n",
    "    plt.plot(poisson_newcases['k'], poisson_newcases['prob_mass_function'])  \n",
    "    plt.show()    \n",
    "    print(poisson_newcases)"
   ]
  },
  {
   "cell_type": "markdown",
   "metadata": {},
   "source": [
    "## Model a poison distribution for Newyork state Daily new cases"
   ]
  },
  {
   "cell_type": "code",
   "execution_count": 133,
   "metadata": {},
   "outputs": [
    {
     "data": {
      "image/png": "[encoded data removed]",
      "text/plain": [
       "<Figure size 864x576 with 1 Axes>"
      ]
     },
     "metadata": {
      "needs_background": "light"
     },
     "output_type": "display_data"
    },
    {
     "name": "stdout",
     "output_type": "stream",
     "text": [
      "           k     mu  prob_mass_function\n",
      "0        0.0  915.0                 0.0\n",
      "1        1.0  915.0                 0.0\n",
      "2        2.0  915.0                 0.0\n",
      "3        3.0  915.0                 0.0\n",
      "4        4.0  915.0                 0.0\n",
      "...      ...    ...                 ...\n",
      "6605  6605.0  915.0                 0.0\n",
      "6606  6606.0  915.0                 0.0\n",
      "6607  6607.0  915.0                 0.0\n",
      "6608  6608.0  915.0                 0.0\n",
      "6609  6609.0  915.0                 0.0\n",
      "\n",
      "[6610 rows x 3 columns]\n"
     ]
    }
   ],
   "source": [
    "plot_poisson(ny_df)"
   ]
  },
  {
   "cell_type": "markdown",
   "metadata": {},
   "source": [
    "## Compare Newyork state with 5 other states"
   ]
  },
  {
   "cell_type": "markdown",
   "metadata": {},
   "source": [
    "#### Model a Poisson distribution for California"
   ]
  },
  {
   "cell_type": "code",
   "execution_count": 135,
   "metadata": {},
   "outputs": [
    {
     "data": {
      "image/png": "[encoded data removed]",
      "text/plain": [
       "<Figure size 864x576 with 1 Axes>"
      ]
     },
     "metadata": {
      "needs_background": "light"
     },
     "output_type": "display_data"
    },
    {
     "name": "stdout",
     "output_type": "stream",
     "text": [
      "             k     mu  prob_mass_function\n",
      "0          0.0  853.0                 0.0\n",
      "1          1.0  853.0                 0.0\n",
      "2          2.0  853.0                 0.0\n",
      "3          3.0  853.0                 0.0\n",
      "4          4.0  853.0                 0.0\n",
      "...        ...    ...                 ...\n",
      "15137  15137.0  853.0                 0.0\n",
      "15138  15138.0  853.0                 0.0\n",
      "15139  15139.0  853.0                 0.0\n",
      "15140  15140.0  853.0                 0.0\n",
      "15141  15141.0  853.0                 0.0\n",
      "\n",
      "[15142 rows x 3 columns]\n"
     ]
    }
   ],
   "source": [
    "plot_poisson(ca_df)"
   ]
  },
  {
   "cell_type": "markdown",
   "metadata": {},
   "source": [
    "#### Model a Poisson distribution for Florida"
   ]
  },
  {
   "cell_type": "code",
   "execution_count": 136,
   "metadata": {},
   "outputs": [
    {
     "data": {
      "image/png": "[encoded data removed]",
      "text/plain": [
       "<Figure size 864x576 with 1 Axes>"
      ]
     },
     "metadata": {
      "needs_background": "light"
     },
     "output_type": "display_data"
    },
    {
     "name": "stdout",
     "output_type": "stream",
     "text": [
      "             k      mu  prob_mass_function\n",
      "0          0.0  1486.0                 0.0\n",
      "1          1.0  1486.0                 0.0\n",
      "2          2.0  1486.0                 0.0\n",
      "3          3.0  1486.0                 0.0\n",
      "4          4.0  1486.0                 0.0\n",
      "...        ...     ...                 ...\n",
      "50004  50004.0  1486.0                 0.0\n",
      "50005  50005.0  1486.0                 0.0\n",
      "50006  50006.0  1486.0                 0.0\n",
      "50007  50007.0  1486.0                 0.0\n",
      "50008  50008.0  1486.0                 0.0\n",
      "\n",
      "[50009 rows x 3 columns]\n"
     ]
    }
   ],
   "source": [
    "plot_poisson(fl_df)"
   ]
  },
  {
   "cell_type": "markdown",
   "metadata": {},
   "source": [
    "#### Model a Poisson distribution for South Carolina"
   ]
  },
  {
   "cell_type": "code",
   "execution_count": 137,
   "metadata": {},
   "outputs": [
    {
     "data": {
      "image/png": "[encoded data removed]",
      "text/plain": [
       "<Figure size 864x576 with 1 Axes>"
      ]
     },
     "metadata": {
      "needs_background": "light"
     },
     "output_type": "display_data"
    },
    {
     "name": "stdout",
     "output_type": "stream",
     "text": [
      "           k     mu  prob_mass_function\n",
      "0        0.0  997.0                 0.0\n",
      "1        1.0  997.0                 0.0\n",
      "2        2.0  997.0                 0.0\n",
      "3        3.0  997.0                 0.0\n",
      "4        4.0  997.0                 0.0\n",
      "...      ...    ...                 ...\n",
      "9175  9175.0  997.0                 0.0\n",
      "9176  9176.0  997.0                 0.0\n",
      "9177  9177.0  997.0                 0.0\n",
      "9178  9178.0  997.0                 0.0\n",
      "9179  9179.0  997.0                 0.0\n",
      "\n",
      "[9180 rows x 3 columns]\n"
     ]
    }
   ],
   "source": [
    "plot_poisson(sc_df)"
   ]
  },
  {
   "cell_type": "markdown",
   "metadata": {},
   "source": [
    "#### Model a Poisson distribution for Texas"
   ]
  },
  {
   "cell_type": "code",
   "execution_count": 138,
   "metadata": {},
   "outputs": [
    {
     "data": {
      "image/png": "[encoded data removed]",
      "text/plain": [
       "<Figure size 864x576 with 1 Axes>"
      ]
     },
     "metadata": {
      "needs_background": "light"
     },
     "output_type": "display_data"
    },
    {
     "name": "stdout",
     "output_type": "stream",
     "text": [
      "               k      mu  prob_mass_function\n",
      "0            0.0  5153.0                 0.0\n",
      "1            1.0  5153.0                 0.0\n",
      "2            2.0  5153.0                 0.0\n",
      "3            3.0  5153.0                 0.0\n",
      "4            4.0  5153.0                 0.0\n",
      "...          ...     ...                 ...\n",
      "673902  673902.0  5153.0                 0.0\n",
      "673903  673903.0  5153.0                 0.0\n",
      "673904  673904.0  5153.0                 0.0\n",
      "673905  673905.0  5153.0                 0.0\n",
      "673906  673906.0  5153.0                 0.0\n",
      "\n",
      "[673907 rows x 3 columns]\n"
     ]
    }
   ],
   "source": [
    "plot_poisson(tx_df)"
   ]
  },
  {
   "cell_type": "markdown",
   "metadata": {},
   "source": [
    "#### Model a Poisson distribution for Arizona"
   ]
  },
  {
   "cell_type": "code",
   "execution_count": 139,
   "metadata": {},
   "outputs": [
    {
     "data": {
      "image/png": "[encoded data removed]",
      "text/plain": [
       "<Figure size 864x576 with 1 Axes>"
      ]
     },
     "metadata": {
      "needs_background": "light"
     },
     "output_type": "display_data"
    },
    {
     "name": "stdout",
     "output_type": "stream",
     "text": [
      "             k      mu  prob_mass_function\n",
      "0          0.0  1794.0                 0.0\n",
      "1          1.0  1794.0                 0.0\n",
      "2          2.0  1794.0                 0.0\n",
      "3          3.0  1794.0                 0.0\n",
      "4          4.0  1794.0                 0.0\n",
      "...        ...     ...                 ...\n",
      "15119  15119.0  1794.0                 0.0\n",
      "15120  15120.0  1794.0                 0.0\n",
      "15121  15121.0  1794.0                 0.0\n",
      "15122  15122.0  1794.0                 0.0\n",
      "15123  15123.0  1794.0                 0.0\n",
      "\n",
      "[15124 rows x 3 columns]\n"
     ]
    }
   ],
   "source": [
    "plot_poisson(ar_df)"
   ]
  },
  {
   "cell_type": "markdown",
   "metadata": {},
   "source": [
    "## Model a poission distribution of COVID-19 death cases of a state and compare to other 5 states."
   ]
  },
  {
   "cell_type": "markdown",
   "metadata": {},
   "source": [
    "## Chosing initial state as Newyork"
   ]
  },
  {
   "cell_type": "code",
   "execution_count": 158,
   "metadata": {},
   "outputs": [
    {
     "data": {
      "image/png": "[encoded data removed]",
      "text/plain": [
       "<Figure size 864x576 with 1 Axes>"
      ]
     },
     "metadata": {
      "needs_background": "light"
     },
     "output_type": "display_data"
    },
    {
     "name": "stdout",
     "output_type": "stream",
     "text": [
      "         k    mu  prob_mass_function\n",
      "0      0.0  11.0        1.670170e-05\n",
      "1      1.0  11.0        1.837187e-04\n",
      "2      2.0  11.0        1.010453e-03\n",
      "3      3.0  11.0        3.704994e-03\n",
      "4      4.0  11.0        1.018873e-02\n",
      "..     ...   ...                 ...\n",
      "252  252.0  11.0       2.203214e-240\n",
      "253  253.0  11.0       9.579192e-242\n",
      "254  254.0  11.0       4.148469e-243\n",
      "255  255.0  11.0       1.789536e-244\n",
      "256  256.0  11.0       7.689411e-246\n",
      "\n",
      "[257 rows x 3 columns]\n"
     ]
    }
   ],
   "source": [
    "plot_poisson(ny_death_df)"
   ]
  },
  {
   "cell_type": "markdown",
   "metadata": {},
   "source": [
    "## Comparing with 5 other states death data"
   ]
  },
  {
   "cell_type": "code",
   "execution_count": 159,
   "metadata": {},
   "outputs": [
    {
     "data": {
      "image/png": "[encoded data removed]",
      "text/plain": [
       "<Figure size 864x576 with 1 Axes>"
      ]
     },
     "metadata": {
      "needs_background": "light"
     },
     "output_type": "display_data"
    },
    {
     "name": "stdout",
     "output_type": "stream",
     "text": [
      "       k   mu  prob_mass_function\n",
      "0    0.0  6.0        2.478752e-03\n",
      "1    1.0  6.0        1.487251e-02\n",
      "2    2.0  6.0        4.461754e-02\n",
      "3    3.0  6.0        8.923508e-02\n",
      "4    4.0  6.0        1.338526e-01\n",
      "..   ...  ...                 ...\n",
      "77  77.0  6.0        1.412418e-56\n",
      "78  78.0  6.0        1.086476e-57\n",
      "79  79.0  6.0        8.251714e-59\n",
      "80  80.0  6.0        6.188785e-60\n",
      "81  81.0  6.0        4.584285e-61\n",
      "\n",
      "[82 rows x 3 columns]\n"
     ]
    }
   ],
   "source": [
    "plot_poisson(ca_death_df)"
   ]
  },
  {
   "cell_type": "code",
   "execution_count": 160,
   "metadata": {},
   "outputs": [
    {
     "data": {
      "image/png": "[encoded data removed]",
      "text/plain": [
       "<Figure size 864x576 with 1 Axes>"
      ]
     },
     "metadata": {
      "needs_background": "light"
     },
     "output_type": "display_data"
    },
    {
     "name": "stdout",
     "output_type": "stream",
     "text": [
      "         k    mu  prob_mass_function\n",
      "0      0.0  16.0        1.125352e-07\n",
      "1      1.0  16.0        1.800563e-06\n",
      "2      2.0  16.0        1.440450e-05\n",
      "3      3.0  16.0        7.682401e-05\n",
      "4      4.0  16.0        3.072961e-04\n",
      "..     ...   ...                 ...\n",
      "116  116.0  16.0        1.579823e-58\n",
      "117  117.0  16.0        2.160442e-59\n",
      "118  118.0  16.0        2.929413e-60\n",
      "119  119.0  16.0        3.938707e-61\n",
      "120  120.0  16.0        5.251609e-62\n",
      "\n",
      "[121 rows x 3 columns]\n"
     ]
    }
   ],
   "source": [
    "plot_poisson(fl_death_df)"
   ]
  },
  {
   "cell_type": "code",
   "execution_count": 161,
   "metadata": {},
   "outputs": [
    {
     "data": {
      "image/png": "[encoded data removed]",
      "text/plain": [
       "<Figure size 864x576 with 1 Axes>"
      ]
     },
     "metadata": {
      "needs_background": "light"
     },
     "output_type": "display_data"
    },
    {
     "name": "stdout",
     "output_type": "stream",
     "text": [
      "         k    mu  prob_mass_function\n",
      "0      0.0  15.0        3.059023e-07\n",
      "1      1.0  15.0        4.588535e-06\n",
      "2      2.0  15.0        3.441401e-05\n",
      "3      3.0  15.0        1.720701e-04\n",
      "4      4.0  15.0        6.452627e-04\n",
      "..     ...   ...                 ...\n",
      "242  242.0  15.0       5.302325e-196\n",
      "243  243.0  15.0       3.273040e-197\n",
      "244  244.0  15.0       2.012115e-198\n",
      "245  245.0  15.0       1.231907e-199\n",
      "246  246.0  15.0       7.511628e-201\n",
      "\n",
      "[247 rows x 3 columns]\n"
     ]
    }
   ],
   "source": [
    "plot_poisson(sc_death_df)"
   ]
  },
  {
   "cell_type": "code",
   "execution_count": 162,
   "metadata": {},
   "outputs": [
    {
     "data": {
      "image/png": "[encoded data removed]",
      "text/plain": [
       "<Figure size 864x576 with 1 Axes>"
      ]
     },
     "metadata": {
      "needs_background": "light"
     },
     "output_type": "display_data"
    },
    {
     "name": "stdout",
     "output_type": "stream",
     "text": [
      "           k     mu  prob_mass_function\n",
      "0        0.0  110.0        1.688912e-48\n",
      "1        1.0  110.0        1.857803e-46\n",
      "2        2.0  110.0        1.021792e-44\n",
      "3        3.0  110.0        3.746570e-43\n",
      "4        4.0  110.0        1.030307e-41\n",
      "...      ...    ...                 ...\n",
      "2291  2291.0  110.0        0.000000e+00\n",
      "2292  2292.0  110.0        0.000000e+00\n",
      "2293  2293.0  110.0        0.000000e+00\n",
      "2294  2294.0  110.0        0.000000e+00\n",
      "2295  2295.0  110.0        0.000000e+00\n",
      "\n",
      "[2296 rows x 3 columns]\n"
     ]
    }
   ],
   "source": [
    "plot_poisson(tx_death_df)"
   ]
  },
  {
   "cell_type": "code",
   "execution_count": 163,
   "metadata": {},
   "outputs": [
    {
     "data": {
      "image/png": "[encoded data removed]",
      "text/plain": [
       "<Figure size 864x576 with 1 Axes>"
      ]
     },
     "metadata": {
      "needs_background": "light"
     },
     "output_type": "display_data"
    },
    {
     "name": "stdout",
     "output_type": "stream",
     "text": [
      "         k    mu  prob_mass_function\n",
      "0      0.0  29.0        2.543666e-13\n",
      "1      1.0  29.0        7.376630e-12\n",
      "2      2.0  29.0        1.069611e-10\n",
      "3      3.0  29.0        1.033958e-09\n",
      "4      4.0  29.0        7.496193e-09\n",
      "..     ...   ...                 ...\n",
      "338  338.0  29.0       1.122065e-228\n",
      "339  339.0  29.0       9.598789e-230\n",
      "340  340.0  29.0       8.187202e-231\n",
      "341  341.0  29.0       6.962723e-232\n",
      "342  342.0  29.0       5.904064e-233\n",
      "\n",
      "[343 rows x 3 columns]\n"
     ]
    }
   ],
   "source": [
    "plot_poisson(ar_death_df)"
   ]
  },
  {
   "cell_type": "markdown",
   "metadata": {},
   "source": [
    "## Model poission distributions for North Carolina counties COVID-19 in cases and deaths"
   ]
  },
  {
   "cell_type": "markdown",
   "metadata": {},
   "source": [
    "## Poisson distribution for NC everyday new cases"
   ]
  },
  {
   "cell_type": "code",
   "execution_count": 611,
   "metadata": {},
   "outputs": [
    {
     "name": "stdout",
     "output_type": "stream",
     "text": [
      "Statistics of North Carolina state is shown below\n",
      "Minimum value ---  -6310.0\n",
      "Maximum value ---  31513.0\n",
      "Mean ---  1846.1031468531469\n",
      "Mode ---  0\n",
      "Variance ---  7589801.984088153\n",
      "Kurtosis ---  35.93865862808579\n",
      "Skewdness ---  4.435871168210637\n"
     ]
    }
   ],
   "source": [
    "nc_cases_df = get_state_data('NC','cases')\n",
    "calculate_stats(nc_cases_df, 'North Carolina')"
   ]
  },
  {
   "cell_type": "code",
   "execution_count": 167,
   "metadata": {},
   "outputs": [
    {
     "data": {
      "image/png": "[encoded data removed]",
      "text/plain": [
       "<Figure size 864x576 with 1 Axes>"
      ]
     },
     "metadata": {
      "needs_background": "light"
     },
     "output_type": "display_data"
    },
    {
     "name": "stdout",
     "output_type": "stream",
     "text": [
      "             k      mu  prob_mass_function\n",
      "0          0.0  1846.0                 0.0\n",
      "1          1.0  1846.0                 0.0\n",
      "2          2.0  1846.0                 0.0\n",
      "3          3.0  1846.0                 0.0\n",
      "4          4.0  1846.0                 0.0\n",
      "...        ...     ...                 ...\n",
      "31508  31508.0  1846.0                 0.0\n",
      "31509  31509.0  1846.0                 0.0\n",
      "31510  31510.0  1846.0                 0.0\n",
      "31511  31511.0  1846.0                 0.0\n",
      "31512  31512.0  1846.0                 0.0\n",
      "\n",
      "[31513 rows x 3 columns]\n"
     ]
    }
   ],
   "source": [
    "plot_poisson(nc_cases_df)"
   ]
  },
  {
   "cell_type": "markdown",
   "metadata": {},
   "source": [
    "## Model poission distributions for North Carolina counties COVID-19 in cases and deaths."
   ]
  },
  {
   "cell_type": "markdown",
   "metadata": {},
   "source": [
    "## I am chosing Robeson,  Hyde, Sampson, Stanly and Columbus"
   ]
  },
  {
   "cell_type": "code",
   "execution_count": 739,
   "metadata": {},
   "outputs": [],
   "source": []
  },
  {
   "cell_type": "code",
   "execution_count": 749,
   "metadata": {},
   "outputs": [],
   "source": [
    "def get_county_data(county,dataset_type):\n",
    "    population_dataset = pd.read_csv('../../../../data/stage_2/covid_county_population_usafacts.csv')\n",
    "    population_df = pd.DataFrame(population_dataset)\n",
    "    if(dataset_type=='cases'):\n",
    "        dataset = pd.read_csv('../../../../data/stage_2/covid_confirmed_usafacts.csv')\n",
    "    elif(dataset_type=='deaths'):\n",
    "        dataset = pd.read_csv('../../../../data/stage_2/covid_deaths_usafacts.csv')\n",
    "    county_wise_data = dataset[confirmed_cases['County Name'] != 'Statewide Unallocated']\n",
    "    county_wise_data = county_wise_data.set_index(['countyFIPS','County Name','State','StateFIPS'])\n",
    "    everyday_new_cases = county_wise_data.diff(axis=1)\n",
    "    everyday_new_cases = everyday_new_cases.drop(columns = ['2020-01-22'])\n",
    "    merged_cases_perday = pd.merge(everyday_new_cases, population_df, on='countyFIPS', how ='inner' )\n",
    "    merged_cases_perday_state = merged_cases_perday[merged_cases_perday['State'] == 'NC']\n",
    "    merged_cases_perday_state = merged_cases_perday[merged_cases_perday['County Name'] == county]\n",
    "    merged_cases_perday_state = merged_cases_perday_state.set_index(['countyFIPS','State','County Name'])\n",
    "    merged_cases_perday_state = round(((merged_cases_perday_state.div(merged_cases_perday_state['population'], axis=0))*100000).astype(int))\n",
    "    merged_cases_perday_state = merged_cases_perday_state.drop(columns = ['population'])\n",
    "    covid_cases_summed = merged_cases_perday_state.sum(axis = 0, skipna = True)\n",
    "    df = pd.DataFrame(columns=everyday_new_cases.columns)\n",
    "    df = df.append(covid_cases_summed, ignore_index=True)\n",
    "    return df"
   ]
  },
  {
   "cell_type": "markdown",
   "metadata": {},
   "source": [
    "## Robeson County everyday newcases"
   ]
  },
  {
   "cell_type": "code",
   "execution_count": 759,
   "metadata": {},
   "outputs": [
    {
     "data": {
      "image/png": "[encoded data removed]",
      "text/plain": [
       "<Figure size 864x576 with 1 Axes>"
      ]
     },
     "metadata": {
      "needs_background": "light"
     },
     "output_type": "display_data"
    },
    {
     "name": "stdout",
     "output_type": "stream",
     "text": [
      "         k    mu  prob_mass_function\n",
      "0      0.0  25.0        1.388794e-11\n",
      "1      1.0  25.0        3.471986e-10\n",
      "2      2.0  25.0        4.339982e-09\n",
      "3      3.0  25.0        3.616652e-08\n",
      "4      4.0  25.0        2.260408e-07\n",
      "..     ...   ...                 ...\n",
      "436  436.0  25.0        0.000000e+00\n",
      "437  437.0  25.0        0.000000e+00\n",
      "438  438.0  25.0        0.000000e+00\n",
      "439  439.0  25.0        0.000000e+00\n",
      "440  440.0  25.0        0.000000e+00\n",
      "\n",
      "[441 rows x 3 columns]\n"
     ]
    }
   ],
   "source": [
    "rob_county = get_county_data('Robeson County','cases')\n",
    "plot_poisson(rob_county)"
   ]
  },
  {
   "cell_type": "markdown",
   "metadata": {},
   "source": [
    "## Robeson County Death Analysis"
   ]
  },
  {
   "cell_type": "code",
   "execution_count": 760,
   "metadata": {},
   "outputs": [
    {
     "data": {
      "image/png": "[encoded data removed]",
      "text/plain": [
       "<Figure size 864x576 with 1 Axes>"
      ]
     },
     "metadata": {
      "needs_background": "light"
     },
     "output_type": "display_data"
    },
    {
     "name": "stdout",
     "output_type": "stream",
     "text": [
      "       k   mu  prob_mass_function\n",
      "0    0.0  0.0                 1.0\n",
      "1    1.0  0.0                 0.0\n",
      "2    2.0  0.0                 0.0\n",
      "3    3.0  0.0                 0.0\n",
      "4    4.0  0.0                 0.0\n",
      "5    5.0  0.0                 0.0\n",
      "6    6.0  0.0                 0.0\n",
      "7    7.0  0.0                 0.0\n",
      "8    8.0  0.0                 0.0\n",
      "9    9.0  0.0                 0.0\n",
      "10  10.0  0.0                 0.0\n",
      "11  11.0  0.0                 0.0\n",
      "12  12.0  0.0                 0.0\n",
      "13  13.0  0.0                 0.0\n",
      "14  14.0  0.0                 0.0\n"
     ]
    }
   ],
   "source": [
    "rob_county_deaths=get_county_data('Robeson County','deaths')\n",
    "plot_poisson(rob_county_deaths)"
   ]
  },
  {
   "cell_type": "markdown",
   "metadata": {},
   "source": [
    "## Hyde County everyday cases"
   ]
  },
  {
   "cell_type": "code",
   "execution_count": 761,
   "metadata": {},
   "outputs": [
    {
     "data": {
      "image/png": "[encoded data removed]",
      "text/plain": [
       "<Figure size 864x576 with 1 Axes>"
      ]
     },
     "metadata": {
      "needs_background": "light"
     },
     "output_type": "display_data"
    },
    {
     "name": "stdout",
     "output_type": "stream",
     "text": [
      "           k    mu  prob_mass_function\n",
      "0        0.0  43.0        2.115131e-19\n",
      "1        1.0  43.0        9.095063e-18\n",
      "2        2.0  43.0        1.955439e-16\n",
      "3        3.0  43.0        2.802795e-15\n",
      "4        4.0  43.0        3.013005e-14\n",
      "...      ...   ...                 ...\n",
      "1169  1169.0  43.0        0.000000e+00\n",
      "1170  1170.0  43.0        0.000000e+00\n",
      "1171  1171.0  43.0        0.000000e+00\n",
      "1172  1172.0  43.0        0.000000e+00\n",
      "1173  1173.0  43.0        0.000000e+00\n",
      "\n",
      "[1174 rows x 3 columns]\n"
     ]
    }
   ],
   "source": [
    "hyde_county = get_county_data('Hyde County','cases')\n",
    "plot_poisson(hyde_county)"
   ]
  },
  {
   "cell_type": "markdown",
   "metadata": {},
   "source": [
    "## Hyde County death cases"
   ]
  },
  {
   "cell_type": "code",
   "execution_count": 762,
   "metadata": {},
   "outputs": [
    {
     "data": {
      "image/png": "[encoded data removed]",
      "text/plain": [
       "<Figure size 864x576 with 1 Axes>"
      ]
     },
     "metadata": {
      "needs_background": "light"
     },
     "output_type": "display_data"
    },
    {
     "name": "stdout",
     "output_type": "stream",
     "text": [
      "       k   mu  prob_mass_function\n",
      "0    0.0  0.0                 1.0\n",
      "1    1.0  0.0                 0.0\n",
      "2    2.0  0.0                 0.0\n",
      "3    3.0  0.0                 0.0\n",
      "4    4.0  0.0                 0.0\n",
      "..   ...  ...                 ...\n",
      "71  71.0  0.0                 0.0\n",
      "72  72.0  0.0                 0.0\n",
      "73  73.0  0.0                 0.0\n",
      "74  74.0  0.0                 0.0\n",
      "75  75.0  0.0                 0.0\n",
      "\n",
      "[76 rows x 3 columns]\n"
     ]
    }
   ],
   "source": [
    "hyde_county_deaths=get_county_data('Hyde County','deaths')\n",
    "plot_poisson(hyde_county_deaths)"
   ]
  },
  {
   "cell_type": "markdown",
   "metadata": {},
   "source": [
    "## Sampson County everyday case analysis"
   ]
  },
  {
   "cell_type": "code",
   "execution_count": 764,
   "metadata": {},
   "outputs": [
    {
     "data": {
      "image/png": "[encoded data removed]",
      "text/plain": [
       "<Figure size 864x576 with 1 Axes>"
      ]
     },
     "metadata": {
      "needs_background": "light"
     },
     "output_type": "display_data"
    },
    {
     "name": "stdout",
     "output_type": "stream",
     "text": [
      "         k    mu  prob_mass_function\n",
      "0      0.0  24.0        3.775135e-11\n",
      "1      1.0  24.0        9.060323e-10\n",
      "2      2.0  24.0        1.087239e-08\n",
      "3      3.0  24.0        8.697910e-08\n",
      "4      4.0  24.0        5.218746e-07\n",
      "..     ...   ...                 ...\n",
      "643  643.0  24.0        0.000000e+00\n",
      "644  644.0  24.0        0.000000e+00\n",
      "645  645.0  24.0        0.000000e+00\n",
      "646  646.0  24.0        0.000000e+00\n",
      "647  647.0  24.0        0.000000e+00\n",
      "\n",
      "[648 rows x 3 columns]\n"
     ]
    }
   ],
   "source": [
    "sampson_county = get_county_data('Sampson County','cases')\n",
    "plot_poisson(sampson_county)"
   ]
  },
  {
   "cell_type": "markdown",
   "metadata": {},
   "source": [
    "## Sampson County death analysis"
   ]
  },
  {
   "cell_type": "code",
   "execution_count": 765,
   "metadata": {},
   "outputs": [
    {
     "data": {
      "image/png": "[encoded data removed]",
      "text/plain": [
       "<Figure size 864x576 with 1 Axes>"
      ]
     },
     "metadata": {
      "needs_background": "light"
     },
     "output_type": "display_data"
    },
    {
     "name": "stdout",
     "output_type": "stream",
     "text": [
      "     k   mu  prob_mass_function\n",
      "0  0.0  0.0                 1.0\n",
      "1  1.0  0.0                 0.0\n",
      "2  2.0  0.0                 0.0\n",
      "3  3.0  0.0                 0.0\n",
      "4  4.0  0.0                 0.0\n",
      "5  5.0  0.0                 0.0\n",
      "6  6.0  0.0                 0.0\n"
     ]
    }
   ],
   "source": [
    "samp_county_deaths=get_county_data('Sampson County','deaths')\n",
    "plot_poisson(samp_county_deaths)"
   ]
  },
  {
   "cell_type": "markdown",
   "metadata": {},
   "source": [
    "## Stanly County everyday case analysis"
   ]
  },
  {
   "cell_type": "code",
   "execution_count": 766,
   "metadata": {},
   "outputs": [
    {
     "data": {
      "image/png": "[encoded data removed]",
      "text/plain": [
       "<Figure size 864x576 with 1 Axes>"
      ]
     },
     "metadata": {
      "needs_background": "light"
     },
     "output_type": "display_data"
    },
    {
     "name": "stdout",
     "output_type": "stream",
     "text": [
      "         k    mu  prob_mass_function\n",
      "0      0.0  23.0        1.026188e-10\n",
      "1      1.0  23.0        2.360232e-09\n",
      "2      2.0  23.0        2.714267e-08\n",
      "3      3.0  23.0        2.080938e-07\n",
      "4      4.0  23.0        1.196539e-06\n",
      "..     ...   ...                 ...\n",
      "386  386.0  23.0       1.447654e-317\n",
      "387  387.0  23.0       8.603610e-319\n",
      "388  388.0  23.0       5.100240e-320\n",
      "389  389.0  23.0       3.013800e-321\n",
      "390  390.0  23.0       1.778636e-322\n",
      "\n",
      "[391 rows x 3 columns]\n"
     ]
    }
   ],
   "source": [
    "stanly_county = get_county_data('Stanly County','cases')\n",
    "plot_poisson(stanly_county)"
   ]
  },
  {
   "cell_type": "markdown",
   "metadata": {},
   "source": [
    "## Stanly County death analysis"
   ]
  },
  {
   "cell_type": "code",
   "execution_count": 767,
   "metadata": {},
   "outputs": [
    {
     "data": {
      "image/png": "[encoded data removed]",
      "text/plain": [
       "<Figure size 864x576 with 1 Axes>"
      ]
     },
     "metadata": {
      "needs_background": "light"
     },
     "output_type": "display_data"
    },
    {
     "name": "stdout",
     "output_type": "stream",
     "text": [
      "       k   mu  prob_mass_function\n",
      "0    0.0  0.0                 1.0\n",
      "1    1.0  0.0                 0.0\n",
      "2    2.0  0.0                 0.0\n",
      "3    3.0  0.0                 0.0\n",
      "4    4.0  0.0                 0.0\n",
      "5    5.0  0.0                 0.0\n",
      "6    6.0  0.0                 0.0\n",
      "7    7.0  0.0                 0.0\n",
      "8    8.0  0.0                 0.0\n",
      "9    9.0  0.0                 0.0\n",
      "10  10.0  0.0                 0.0\n",
      "11  11.0  0.0                 0.0\n",
      "12  12.0  0.0                 0.0\n",
      "13  13.0  0.0                 0.0\n",
      "14  14.0  0.0                 0.0\n",
      "15  15.0  0.0                 0.0\n",
      "16  16.0  0.0                 0.0\n",
      "17  17.0  0.0                 0.0\n",
      "18  18.0  0.0                 0.0\n",
      "19  19.0  0.0                 0.0\n",
      "20  20.0  0.0                 0.0\n",
      "21  21.0  0.0                 0.0\n",
      "22  22.0  0.0                 0.0\n",
      "23  23.0  0.0                 0.0\n",
      "24  24.0  0.0                 0.0\n",
      "25  25.0  0.0                 0.0\n",
      "26  26.0  0.0                 0.0\n",
      "27  27.0  0.0                 0.0\n",
      "28  28.0  0.0                 0.0\n",
      "29  29.0  0.0                 0.0\n",
      "30  30.0  0.0                 0.0\n",
      "31  31.0  0.0                 0.0\n",
      "32  32.0  0.0                 0.0\n",
      "33  33.0  0.0                 0.0\n",
      "34  34.0  0.0                 0.0\n"
     ]
    }
   ],
   "source": [
    "stanly_county_deaths = get_county_data('Stanly County','deaths')\n",
    "plot_poisson(stanly_county_deaths)"
   ]
  },
  {
   "cell_type": "markdown",
   "metadata": {},
   "source": [
    "## Columbus county everyday case analysis"
   ]
  },
  {
   "cell_type": "code",
   "execution_count": 768,
   "metadata": {},
   "outputs": [
    {
     "data": {
      "image/png": "[encoded data removed]",
      "text/plain": [
       "<Figure size 864x576 with 1 Axes>"
      ]
     },
     "metadata": {
      "needs_background": "light"
     },
     "output_type": "display_data"
    },
    {
     "name": "stdout",
     "output_type": "stream",
     "text": [
      "         k    mu  prob_mass_function\n",
      "0      0.0  23.0        1.026188e-10\n",
      "1      1.0  23.0        2.360232e-09\n",
      "2      2.0  23.0        2.714267e-08\n",
      "3      3.0  23.0        2.080938e-07\n",
      "4      4.0  23.0        1.196539e-06\n",
      "..     ...   ...                 ...\n",
      "340  340.0  23.0       1.954553e-262\n",
      "341  341.0  23.0       1.318320e-263\n",
      "342  342.0  23.0       8.865895e-265\n",
      "343  343.0  23.0       5.945061e-266\n",
      "344  344.0  23.0       3.974895e-267\n",
      "\n",
      "[345 rows x 3 columns]\n"
     ]
    }
   ],
   "source": [
    "columbus_county = get_county_data('Columbus County','cases')\n",
    "plot_poisson(columbus_county)"
   ]
  },
  {
   "cell_type": "markdown",
   "metadata": {},
   "source": [
    "## Columbus county death case analysis"
   ]
  },
  {
   "cell_type": "code",
   "execution_count": 769,
   "metadata": {},
   "outputs": [
    {
     "data": {
      "image/png": "[encoded data removed]",
      "text/plain": [
       "<Figure size 864x576 with 1 Axes>"
      ]
     },
     "metadata": {
      "needs_background": "light"
     },
     "output_type": "display_data"
    },
    {
     "name": "stdout",
     "output_type": "stream",
     "text": [
      "       k   mu  prob_mass_function\n",
      "0    0.0  0.0                 1.0\n",
      "1    1.0  0.0                 0.0\n",
      "2    2.0  0.0                 0.0\n",
      "3    3.0  0.0                 0.0\n",
      "4    4.0  0.0                 0.0\n",
      "5    5.0  0.0                 0.0\n",
      "6    6.0  0.0                 0.0\n",
      "7    7.0  0.0                 0.0\n",
      "8    8.0  0.0                 0.0\n",
      "9    9.0  0.0                 0.0\n",
      "10  10.0  0.0                 0.0\n",
      "11  11.0  0.0                 0.0\n",
      "12  12.0  0.0                 0.0\n",
      "13  13.0  0.0                 0.0\n"
     ]
    }
   ],
   "source": [
    "columbus_county_deaths = get_county_data('Columbus County','deaths')\n",
    "plot_poisson(columbus_county_deaths)"
   ]
  },
  {
   "cell_type": "markdown",
   "metadata": {},
   "source": [
    "## Perform corelation between Enrichment data valiables and COVID-19 cases to observe any patterns"
   ]
  },
  {
   "cell_type": "markdown",
   "metadata": {},
   "source": [
    "#### I am chosing ACS Demographic dataset since I worked on this in task1. The dataset mainly describes the demographic distribution of different categories of people over different counties of specific state across United States. Along with population, the households occupied by the population is also mentioned."
   ]
  },
  {
   "cell_type": "code",
   "execution_count": 435,
   "metadata": {},
   "outputs": [
    {
     "data": {
      "text/html": [
       "<div>\n",
       "<style scoped>\n",
       "    .dataframe tbody tr th:only-of-type {\n",
       "        vertical-align: middle;\n",
       "    }\n",
       "\n",
       "    .dataframe tbody tr th {\n",
       "        vertical-align: top;\n",
       "    }\n",
       "\n",
       "    .dataframe thead th {\n",
       "        text-align: right;\n",
       "    }\n",
       "</style>\n",
       "<table border=\"1\" class=\"dataframe\">\n",
       "  <thead>\n",
       "    <tr style=\"text-align: right;\">\n",
       "      <th></th>\n",
       "      <th>countyFIPS</th>\n",
       "      <th>Estimate!!SEX AND AGE!!Total population</th>\n",
       "      <th>Margin of Error!!SEX AND AGE!!Total population</th>\n",
       "      <th>Percent!!SEX AND AGE!!Total population</th>\n",
       "      <th>Percent Margin of Error!!SEX AND AGE!!Total population</th>\n",
       "      <th>Estimate!!SEX AND AGE!!Total population!!Male</th>\n",
       "      <th>Margin of Error!!SEX AND AGE!!Total population!!Male</th>\n",
       "      <th>Percent!!SEX AND AGE!!Total population!!Male</th>\n",
       "      <th>Percent Margin of Error!!SEX AND AGE!!Total population!!Male</th>\n",
       "      <th>Estimate!!SEX AND AGE!!Total population!!Female</th>\n",
       "      <th>...</th>\n",
       "      <th>Estimate!!CITIZEN, VOTING AGE POPULATION!!Citizen, 18 and over population!!Male</th>\n",
       "      <th>Margin of Error!!CITIZEN, VOTING AGE POPULATION!!Citizen, 18 and over population!!Male</th>\n",
       "      <th>Percent!!CITIZEN, VOTING AGE POPULATION!!Citizen, 18 and over population!!Male</th>\n",
       "      <th>Percent Margin of Error!!CITIZEN, VOTING AGE POPULATION!!Citizen, 18 and over population!!Male</th>\n",
       "      <th>Estimate!!CITIZEN, VOTING AGE POPULATION!!Citizen, 18 and over population!!Female</th>\n",
       "      <th>Margin of Error!!CITIZEN, VOTING AGE POPULATION!!Citizen, 18 and over population!!Female</th>\n",
       "      <th>Percent!!CITIZEN, VOTING AGE POPULATION!!Citizen, 18 and over population!!Female</th>\n",
       "      <th>Percent Margin of Error!!CITIZEN, VOTING AGE POPULATION!!Citizen, 18 and over population!!Female</th>\n",
       "      <th>County name</th>\n",
       "      <th>State</th>\n",
       "    </tr>\n",
       "  </thead>\n",
       "  <tbody>\n",
       "    <tr>\n",
       "      <th>1</th>\n",
       "      <td>1003.0</td>\n",
       "      <td>223234</td>\n",
       "      <td>*****</td>\n",
       "      <td>223234</td>\n",
       "      <td>(X)</td>\n",
       "      <td>109192</td>\n",
       "      <td>1466</td>\n",
       "      <td>48.9</td>\n",
       "      <td>0.7</td>\n",
       "      <td>114042</td>\n",
       "      <td>...</td>\n",
       "      <td>80874</td>\n",
       "      <td>1076</td>\n",
       "      <td>47.2</td>\n",
       "      <td>0.6</td>\n",
       "      <td>90470</td>\n",
       "      <td>1507</td>\n",
       "      <td>52.8</td>\n",
       "      <td>0.6</td>\n",
       "      <td>Calhoun County</td>\n",
       "      <td>Alabama</td>\n",
       "    </tr>\n",
       "    <tr>\n",
       "      <th>2</th>\n",
       "      <td>1015.0</td>\n",
       "      <td>113605</td>\n",
       "      <td>*****</td>\n",
       "      <td>113605</td>\n",
       "      <td>(X)</td>\n",
       "      <td>54285</td>\n",
       "      <td>701</td>\n",
       "      <td>47.8</td>\n",
       "      <td>0.6</td>\n",
       "      <td>59320</td>\n",
       "      <td>...</td>\n",
       "      <td>41162</td>\n",
       "      <td>477</td>\n",
       "      <td>46.8</td>\n",
       "      <td>0.4</td>\n",
       "      <td>46710</td>\n",
       "      <td>739</td>\n",
       "      <td>53.2</td>\n",
       "      <td>0.4</td>\n",
       "      <td>Cullman County</td>\n",
       "      <td>Alabama</td>\n",
       "    </tr>\n",
       "    <tr>\n",
       "      <th>3</th>\n",
       "      <td>1043.0</td>\n",
       "      <td>83768</td>\n",
       "      <td>*****</td>\n",
       "      <td>83768</td>\n",
       "      <td>(X)</td>\n",
       "      <td>40579</td>\n",
       "      <td>905</td>\n",
       "      <td>48.4</td>\n",
       "      <td>1.1</td>\n",
       "      <td>43189</td>\n",
       "      <td>...</td>\n",
       "      <td>30623</td>\n",
       "      <td>245</td>\n",
       "      <td>48.0</td>\n",
       "      <td>0.6</td>\n",
       "      <td>33195</td>\n",
       "      <td>683</td>\n",
       "      <td>52.0</td>\n",
       "      <td>0.6</td>\n",
       "      <td>DeKalb County</td>\n",
       "      <td>Alabama</td>\n",
       "    </tr>\n",
       "    <tr>\n",
       "      <th>4</th>\n",
       "      <td>1049.0</td>\n",
       "      <td>71513</td>\n",
       "      <td>*****</td>\n",
       "      <td>71513</td>\n",
       "      <td>(X)</td>\n",
       "      <td>35688</td>\n",
       "      <td>884</td>\n",
       "      <td>49.9</td>\n",
       "      <td>1.2</td>\n",
       "      <td>35825</td>\n",
       "      <td>...</td>\n",
       "      <td>24299</td>\n",
       "      <td>850</td>\n",
       "      <td>49.3</td>\n",
       "      <td>1.4</td>\n",
       "      <td>24996</td>\n",
       "      <td>808</td>\n",
       "      <td>50.7</td>\n",
       "      <td>1.4</td>\n",
       "      <td>Elmore County</td>\n",
       "      <td>Alabama</td>\n",
       "    </tr>\n",
       "    <tr>\n",
       "      <th>5</th>\n",
       "      <td>1051.0</td>\n",
       "      <td>81209</td>\n",
       "      <td>*****</td>\n",
       "      <td>81209</td>\n",
       "      <td>(X)</td>\n",
       "      <td>40060</td>\n",
       "      <td>882</td>\n",
       "      <td>49.3</td>\n",
       "      <td>1.1</td>\n",
       "      <td>41149</td>\n",
       "      <td>...</td>\n",
       "      <td>29171</td>\n",
       "      <td>741</td>\n",
       "      <td>47.5</td>\n",
       "      <td>0.6</td>\n",
       "      <td>32223</td>\n",
       "      <td>418</td>\n",
       "      <td>52.5</td>\n",
       "      <td>0.6</td>\n",
       "      <td>Etowah County</td>\n",
       "      <td>Alabama</td>\n",
       "    </tr>\n",
       "    <tr>\n",
       "      <th>...</th>\n",
       "      <td>...</td>\n",
       "      <td>...</td>\n",
       "      <td>...</td>\n",
       "      <td>...</td>\n",
       "      <td>...</td>\n",
       "      <td>...</td>\n",
       "      <td>...</td>\n",
       "      <td>...</td>\n",
       "      <td>...</td>\n",
       "      <td>...</td>\n",
       "      <td>...</td>\n",
       "      <td>...</td>\n",
       "      <td>...</td>\n",
       "      <td>...</td>\n",
       "      <td>...</td>\n",
       "      <td>...</td>\n",
       "      <td>...</td>\n",
       "      <td>...</td>\n",
       "      <td>...</td>\n",
       "      <td>...</td>\n",
       "      <td>...</td>\n",
       "    </tr>\n",
       "    <tr>\n",
       "      <th>836</th>\n",
       "      <td>72113.0</td>\n",
       "      <td>131881</td>\n",
       "      <td>*****</td>\n",
       "      <td>131881</td>\n",
       "      <td>(X)</td>\n",
       "      <td>63269</td>\n",
       "      <td>*****</td>\n",
       "      <td>48.0</td>\n",
       "      <td>*****</td>\n",
       "      <td>68612</td>\n",
       "      <td>...</td>\n",
       "      <td>50442</td>\n",
       "      <td>255</td>\n",
       "      <td>47.5</td>\n",
       "      <td>0.3</td>\n",
       "      <td>55731</td>\n",
       "      <td>560</td>\n",
       "      <td>52.5</td>\n",
       "      <td>0.3</td>\n",
       "      <td>San Juan Municipio</td>\n",
       "      <td>Puerto Rico</td>\n",
       "    </tr>\n",
       "    <tr>\n",
       "      <th>837</th>\n",
       "      <td>72127.0</td>\n",
       "      <td>318441</td>\n",
       "      <td>*****</td>\n",
       "      <td>318441</td>\n",
       "      <td>(X)</td>\n",
       "      <td>145575</td>\n",
       "      <td>*****</td>\n",
       "      <td>45.7</td>\n",
       "      <td>*****</td>\n",
       "      <td>172866</td>\n",
       "      <td>...</td>\n",
       "      <td>110694</td>\n",
       "      <td>1561</td>\n",
       "      <td>44.9</td>\n",
       "      <td>0.4</td>\n",
       "      <td>136074</td>\n",
       "      <td>1985</td>\n",
       "      <td>55.1</td>\n",
       "      <td>0.4</td>\n",
       "      <td>Toa Alta Municipio</td>\n",
       "      <td>Puerto Rico</td>\n",
       "    </tr>\n",
       "    <tr>\n",
       "      <th>838</th>\n",
       "      <td>72135.0</td>\n",
       "      <td>72025</td>\n",
       "      <td>*****</td>\n",
       "      <td>72025</td>\n",
       "      <td>(X)</td>\n",
       "      <td>34516</td>\n",
       "      <td>776</td>\n",
       "      <td>47.9</td>\n",
       "      <td>1.1</td>\n",
       "      <td>37509</td>\n",
       "      <td>...</td>\n",
       "      <td>27592</td>\n",
       "      <td>2</td>\n",
       "      <td>47.2</td>\n",
       "      <td>0.1</td>\n",
       "      <td>30804</td>\n",
       "      <td>2</td>\n",
       "      <td>52.8</td>\n",
       "      <td>0.1</td>\n",
       "      <td>Toa Baja Municipio</td>\n",
       "      <td>Puerto Rico</td>\n",
       "    </tr>\n",
       "    <tr>\n",
       "      <th>839</th>\n",
       "      <td>72137.0</td>\n",
       "      <td>74271</td>\n",
       "      <td>*****</td>\n",
       "      <td>74271</td>\n",
       "      <td>(X)</td>\n",
       "      <td>34594</td>\n",
       "      <td>*****</td>\n",
       "      <td>46.6</td>\n",
       "      <td>*****</td>\n",
       "      <td>39677</td>\n",
       "      <td>...</td>\n",
       "      <td>27177</td>\n",
       "      <td>455</td>\n",
       "      <td>45.5</td>\n",
       "      <td>0.4</td>\n",
       "      <td>32541</td>\n",
       "      <td>422</td>\n",
       "      <td>54.5</td>\n",
       "      <td>0.4</td>\n",
       "      <td>Trujillo Alto Municipio</td>\n",
       "      <td>Puerto Rico</td>\n",
       "    </tr>\n",
       "    <tr>\n",
       "      <th>840</th>\n",
       "      <td>72139.0</td>\n",
       "      <td>63674</td>\n",
       "      <td>*****</td>\n",
       "      <td>63674</td>\n",
       "      <td>(X)</td>\n",
       "      <td>28518</td>\n",
       "      <td>460</td>\n",
       "      <td>44.8</td>\n",
       "      <td>0.7</td>\n",
       "      <td>35156</td>\n",
       "      <td>...</td>\n",
       "      <td>23740</td>\n",
       "      <td>162</td>\n",
       "      <td>46.5</td>\n",
       "      <td>0.7</td>\n",
       "      <td>27335</td>\n",
       "      <td>693</td>\n",
       "      <td>53.5</td>\n",
       "      <td>0.7</td>\n",
       "      <td>NaN</td>\n",
       "      <td>NaN</td>\n",
       "    </tr>\n",
       "  </tbody>\n",
       "</table>\n",
       "<p>840 rows × 359 columns</p>\n",
       "</div>"
      ],
      "text/plain": [
       "     countyFIPS Estimate!!SEX AND AGE!!Total population  \\\n",
       "1        1003.0                                  223234   \n",
       "2        1015.0                                  113605   \n",
       "3        1043.0                                   83768   \n",
       "4        1049.0                                   71513   \n",
       "5        1051.0                                   81209   \n",
       "..          ...                                     ...   \n",
       "836     72113.0                                  131881   \n",
       "837     72127.0                                  318441   \n",
       "838     72135.0                                   72025   \n",
       "839     72137.0                                   74271   \n",
       "840     72139.0                                   63674   \n",
       "\n",
       "    Margin of Error!!SEX AND AGE!!Total population  \\\n",
       "1                                            *****   \n",
       "2                                            *****   \n",
       "3                                            *****   \n",
       "4                                            *****   \n",
       "5                                            *****   \n",
       "..                                             ...   \n",
       "836                                          *****   \n",
       "837                                          *****   \n",
       "838                                          *****   \n",
       "839                                          *****   \n",
       "840                                          *****   \n",
       "\n",
       "    Percent!!SEX AND AGE!!Total population  \\\n",
       "1                                   223234   \n",
       "2                                   113605   \n",
       "3                                    83768   \n",
       "4                                    71513   \n",
       "5                                    81209   \n",
       "..                                     ...   \n",
       "836                                 131881   \n",
       "837                                 318441   \n",
       "838                                  72025   \n",
       "839                                  74271   \n",
       "840                                  63674   \n",
       "\n",
       "    Percent Margin of Error!!SEX AND AGE!!Total population  \\\n",
       "1                                                  (X)       \n",
       "2                                                  (X)       \n",
       "3                                                  (X)       \n",
       "4                                                  (X)       \n",
       "5                                                  (X)       \n",
       "..                                                 ...       \n",
       "836                                                (X)       \n",
       "837                                                (X)       \n",
       "838                                                (X)       \n",
       "839                                                (X)       \n",
       "840                                                (X)       \n",
       "\n",
       "    Estimate!!SEX AND AGE!!Total population!!Male  \\\n",
       "1                                          109192   \n",
       "2                                           54285   \n",
       "3                                           40579   \n",
       "4                                           35688   \n",
       "5                                           40060   \n",
       "..                                            ...   \n",
       "836                                         63269   \n",
       "837                                        145575   \n",
       "838                                         34516   \n",
       "839                                         34594   \n",
       "840                                         28518   \n",
       "\n",
       "    Margin of Error!!SEX AND AGE!!Total population!!Male  \\\n",
       "1                                                 1466     \n",
       "2                                                  701     \n",
       "3                                                  905     \n",
       "4                                                  884     \n",
       "5                                                  882     \n",
       "..                                                 ...     \n",
       "836                                              *****     \n",
       "837                                              *****     \n",
       "838                                                776     \n",
       "839                                              *****     \n",
       "840                                                460     \n",
       "\n",
       "    Percent!!SEX AND AGE!!Total population!!Male  \\\n",
       "1                                           48.9   \n",
       "2                                           47.8   \n",
       "3                                           48.4   \n",
       "4                                           49.9   \n",
       "5                                           49.3   \n",
       "..                                           ...   \n",
       "836                                         48.0   \n",
       "837                                         45.7   \n",
       "838                                         47.9   \n",
       "839                                         46.6   \n",
       "840                                         44.8   \n",
       "\n",
       "    Percent Margin of Error!!SEX AND AGE!!Total population!!Male  \\\n",
       "1                                                  0.7             \n",
       "2                                                  0.6             \n",
       "3                                                  1.1             \n",
       "4                                                  1.2             \n",
       "5                                                  1.1             \n",
       "..                                                 ...             \n",
       "836                                              *****             \n",
       "837                                              *****             \n",
       "838                                                1.1             \n",
       "839                                              *****             \n",
       "840                                                0.7             \n",
       "\n",
       "    Estimate!!SEX AND AGE!!Total population!!Female  ...  \\\n",
       "1                                            114042  ...   \n",
       "2                                             59320  ...   \n",
       "3                                             43189  ...   \n",
       "4                                             35825  ...   \n",
       "5                                             41149  ...   \n",
       "..                                              ...  ...   \n",
       "836                                           68612  ...   \n",
       "837                                          172866  ...   \n",
       "838                                           37509  ...   \n",
       "839                                           39677  ...   \n",
       "840                                           35156  ...   \n",
       "\n",
       "    Estimate!!CITIZEN, VOTING AGE POPULATION!!Citizen, 18 and over population!!Male  \\\n",
       "1                                                80874                                \n",
       "2                                                41162                                \n",
       "3                                                30623                                \n",
       "4                                                24299                                \n",
       "5                                                29171                                \n",
       "..                                                 ...                                \n",
       "836                                              50442                                \n",
       "837                                             110694                                \n",
       "838                                              27592                                \n",
       "839                                              27177                                \n",
       "840                                              23740                                \n",
       "\n",
       "    Margin of Error!!CITIZEN, VOTING AGE POPULATION!!Citizen, 18 and over population!!Male  \\\n",
       "1                                                 1076                                       \n",
       "2                                                  477                                       \n",
       "3                                                  245                                       \n",
       "4                                                  850                                       \n",
       "5                                                  741                                       \n",
       "..                                                 ...                                       \n",
       "836                                                255                                       \n",
       "837                                               1561                                       \n",
       "838                                                  2                                       \n",
       "839                                                455                                       \n",
       "840                                                162                                       \n",
       "\n",
       "    Percent!!CITIZEN, VOTING AGE POPULATION!!Citizen, 18 and over population!!Male  \\\n",
       "1                                                 47.2                               \n",
       "2                                                 46.8                               \n",
       "3                                                 48.0                               \n",
       "4                                                 49.3                               \n",
       "5                                                 47.5                               \n",
       "..                                                 ...                               \n",
       "836                                               47.5                               \n",
       "837                                               44.9                               \n",
       "838                                               47.2                               \n",
       "839                                               45.5                               \n",
       "840                                               46.5                               \n",
       "\n",
       "    Percent Margin of Error!!CITIZEN, VOTING AGE POPULATION!!Citizen, 18 and over population!!Male  \\\n",
       "1                                                  0.6                                               \n",
       "2                                                  0.4                                               \n",
       "3                                                  0.6                                               \n",
       "4                                                  1.4                                               \n",
       "5                                                  0.6                                               \n",
       "..                                                 ...                                               \n",
       "836                                                0.3                                               \n",
       "837                                                0.4                                               \n",
       "838                                                0.1                                               \n",
       "839                                                0.4                                               \n",
       "840                                                0.7                                               \n",
       "\n",
       "    Estimate!!CITIZEN, VOTING AGE POPULATION!!Citizen, 18 and over population!!Female  \\\n",
       "1                                                90470                                  \n",
       "2                                                46710                                  \n",
       "3                                                33195                                  \n",
       "4                                                24996                                  \n",
       "5                                                32223                                  \n",
       "..                                                 ...                                  \n",
       "836                                              55731                                  \n",
       "837                                             136074                                  \n",
       "838                                              30804                                  \n",
       "839                                              32541                                  \n",
       "840                                              27335                                  \n",
       "\n",
       "    Margin of Error!!CITIZEN, VOTING AGE POPULATION!!Citizen, 18 and over population!!Female  \\\n",
       "1                                                 1507                                         \n",
       "2                                                  739                                         \n",
       "3                                                  683                                         \n",
       "4                                                  808                                         \n",
       "5                                                  418                                         \n",
       "..                                                 ...                                         \n",
       "836                                                560                                         \n",
       "837                                               1985                                         \n",
       "838                                                  2                                         \n",
       "839                                                422                                         \n",
       "840                                                693                                         \n",
       "\n",
       "    Percent!!CITIZEN, VOTING AGE POPULATION!!Citizen, 18 and over population!!Female  \\\n",
       "1                                                 52.8                                 \n",
       "2                                                 53.2                                 \n",
       "3                                                 52.0                                 \n",
       "4                                                 50.7                                 \n",
       "5                                                 52.5                                 \n",
       "..                                                 ...                                 \n",
       "836                                               52.5                                 \n",
       "837                                               55.1                                 \n",
       "838                                               52.8                                 \n",
       "839                                               54.5                                 \n",
       "840                                               53.5                                 \n",
       "\n",
       "    Percent Margin of Error!!CITIZEN, VOTING AGE POPULATION!!Citizen, 18 and over population!!Female  \\\n",
       "1                                                  0.6                                                 \n",
       "2                                                  0.4                                                 \n",
       "3                                                  0.6                                                 \n",
       "4                                                  1.4                                                 \n",
       "5                                                  0.6                                                 \n",
       "..                                                 ...                                                 \n",
       "836                                                0.3                                                 \n",
       "837                                                0.4                                                 \n",
       "838                                                0.1                                                 \n",
       "839                                                0.4                                                 \n",
       "840                                                0.7                                                 \n",
       "\n",
       "                 County name         State  \n",
       "1             Calhoun County       Alabama  \n",
       "2             Cullman County       Alabama  \n",
       "3              DeKalb County       Alabama  \n",
       "4              Elmore County       Alabama  \n",
       "5              Etowah County       Alabama  \n",
       "..                       ...           ...  \n",
       "836       San Juan Municipio   Puerto Rico  \n",
       "837       Toa Alta Municipio   Puerto Rico  \n",
       "838       Toa Baja Municipio   Puerto Rico  \n",
       "839  Trujillo Alto Municipio   Puerto Rico  \n",
       "840                      NaN           NaN  \n",
       "\n",
       "[840 rows x 359 columns]"
      ]
     },
     "execution_count": 435,
     "metadata": {},
     "output_type": "execute_result"
    }
   ],
   "source": [
    "# Read the enrichment dataset\n",
    "acs_data = pd.read_csv('../../../../data/stage_2/ACSDP1Y2019.DP05_data_with_overlays_2021-09-21T071853.csv')\n",
    "acs_data_refined = acs_data.rename(columns=acs_data.iloc[0])\n",
    "acs_data_refined=acs_data_refined.drop([0])\n",
    "acs_data_refined['id'] = acs_data_refined['id'].str.slice(start=9)\n",
    "acs_data_refined = acs_data_refined.rename(columns={\"id\":\"countyFIPS\"})\n",
    "acs_data_refined = acs_data_refined.astype({'countyFIPS': 'int64'})\n",
    "split_county = acs_data_refined[\"Geographic Area Name\"].str.split(\",\")\n",
    "county = split_county.to_list()\n",
    "column_names = [\"County name\", \"State\"]\n",
    "latest_df = pd.DataFrame(county,columns=column_names)\n",
    "no_geo = acs_data_refined.drop(columns=['Geographic Area Name'])\n",
    "add_county_state = pd.concat([no_geo,latest_df],axis=1)\n",
    "add_county_state=add_county_state.drop([0])\n",
    "add_county_state"
   ]
  },
  {
   "cell_type": "markdown",
   "metadata": {},
   "source": [
    "#### calculate the total cases per day, deaths per day and merge with population"
   ]
  },
  {
   "cell_type": "code",
   "execution_count": 436,
   "metadata": {},
   "outputs": [],
   "source": [
    "task2_pop = pd.read_csv('../../../../data/stage_2/covid_county_population_usafacts.csv')\n",
    "task2_confirmedcases = pd.read_csv('../../../../data/stage_2/covid_confirmed_usafacts.csv')\n",
    "casestask2_deathcases = pd.read_csv('../../../../data/stage_2/covid_deaths_usafacts.csv')"
   ]
  },
  {
   "cell_type": "code",
   "execution_count": 437,
   "metadata": {},
   "outputs": [],
   "source": [
    "task2_confirmedcases = task2_confirmedcases[task2_confirmedcases['County Name'] != 'Statewide Unallocated']\n",
    "task2_confirmedcases = task2_confirmedcases.set_index(['countyFIPS','County Name','State','StateFIPS'])\n",
    "task2_confirmedcases = task2_confirmedcases.diff(axis=1)\n",
    "task2_confirmedcases = task2_confirmedcases.drop(columns = ['2020-01-22'])\n",
    "task2_confirmedcases['newcases'] = task2_confirmedcases.sum(axis=1)"
   ]
  },
  {
   "cell_type": "code",
   "execution_count": 438,
   "metadata": {},
   "outputs": [],
   "source": [
    "casestask2_deathcases = casestask2_deathcases[casestask2_deathcases['County Name'] != 'Statewide Unallocated']\n",
    "casestask2_deathcases = casestask2_deathcases.set_index(['countyFIPS','County Name','State','StateFIPS'])\n",
    "casestask2_deathcases = casestask2_deathcases.diff(axis=1)\n",
    "casestask2_deathcases = casestask2_deathcases.drop(columns = ['2020-01-22'])\n",
    "casestask2_deathcases['death_cases'] = casestask2_deathcases.sum(axis=1)"
   ]
  },
  {
   "cell_type": "code",
   "execution_count": 439,
   "metadata": {},
   "outputs": [],
   "source": [
    "task2_confirmedcases = task2_confirmedcases.reset_index()\n",
    "casestask2_deathcases = casestask2_deathcases.reset_index()\n",
    "cases = task2_confirmedcases[['countyFIPS','County Name','State','newcases']]\n",
    "deaths = casestask2_deathcases[['countyFIPS','County Name','State','death_cases']]"
   ]
  },
  {
   "cell_type": "code",
   "execution_count": 440,
   "metadata": {},
   "outputs": [
    {
     "data": {
      "text/html": [
       "<div>\n",
       "<style scoped>\n",
       "    .dataframe tbody tr th:only-of-type {\n",
       "        vertical-align: middle;\n",
       "    }\n",
       "\n",
       "    .dataframe tbody tr th {\n",
       "        vertical-align: top;\n",
       "    }\n",
       "\n",
       "    .dataframe thead th {\n",
       "        text-align: right;\n",
       "    }\n",
       "</style>\n",
       "<table border=\"1\" class=\"dataframe\">\n",
       "  <thead>\n",
       "    <tr style=\"text-align: right;\">\n",
       "      <th></th>\n",
       "      <th>countyFIPS</th>\n",
       "      <th>County Name</th>\n",
       "      <th>State</th>\n",
       "      <th>population</th>\n",
       "    </tr>\n",
       "  </thead>\n",
       "  <tbody>\n",
       "    <tr>\n",
       "      <th>1</th>\n",
       "      <td>1001</td>\n",
       "      <td>Autauga County</td>\n",
       "      <td>AL</td>\n",
       "      <td>55869</td>\n",
       "    </tr>\n",
       "    <tr>\n",
       "      <th>2</th>\n",
       "      <td>1003</td>\n",
       "      <td>Baldwin County</td>\n",
       "      <td>AL</td>\n",
       "      <td>223234</td>\n",
       "    </tr>\n",
       "    <tr>\n",
       "      <th>3</th>\n",
       "      <td>1005</td>\n",
       "      <td>Barbour County</td>\n",
       "      <td>AL</td>\n",
       "      <td>24686</td>\n",
       "    </tr>\n",
       "    <tr>\n",
       "      <th>4</th>\n",
       "      <td>1007</td>\n",
       "      <td>Bibb County</td>\n",
       "      <td>AL</td>\n",
       "      <td>22394</td>\n",
       "    </tr>\n",
       "    <tr>\n",
       "      <th>5</th>\n",
       "      <td>1009</td>\n",
       "      <td>Blount County</td>\n",
       "      <td>AL</td>\n",
       "      <td>57826</td>\n",
       "    </tr>\n",
       "    <tr>\n",
       "      <th>...</th>\n",
       "      <td>...</td>\n",
       "      <td>...</td>\n",
       "      <td>...</td>\n",
       "      <td>...</td>\n",
       "    </tr>\n",
       "    <tr>\n",
       "      <th>3190</th>\n",
       "      <td>56037</td>\n",
       "      <td>Sweetwater County</td>\n",
       "      <td>WY</td>\n",
       "      <td>42343</td>\n",
       "    </tr>\n",
       "    <tr>\n",
       "      <th>3191</th>\n",
       "      <td>56039</td>\n",
       "      <td>Teton County</td>\n",
       "      <td>WY</td>\n",
       "      <td>23464</td>\n",
       "    </tr>\n",
       "    <tr>\n",
       "      <th>3192</th>\n",
       "      <td>56041</td>\n",
       "      <td>Uinta County</td>\n",
       "      <td>WY</td>\n",
       "      <td>20226</td>\n",
       "    </tr>\n",
       "    <tr>\n",
       "      <th>3193</th>\n",
       "      <td>56043</td>\n",
       "      <td>Washakie County</td>\n",
       "      <td>WY</td>\n",
       "      <td>7805</td>\n",
       "    </tr>\n",
       "    <tr>\n",
       "      <th>3194</th>\n",
       "      <td>56045</td>\n",
       "      <td>Weston County</td>\n",
       "      <td>WY</td>\n",
       "      <td>6927</td>\n",
       "    </tr>\n",
       "  </tbody>\n",
       "</table>\n",
       "<p>3145 rows × 4 columns</p>\n",
       "</div>"
      ],
      "text/plain": [
       "      countyFIPS        County Name State  population\n",
       "1           1001     Autauga County    AL       55869\n",
       "2           1003     Baldwin County    AL      223234\n",
       "3           1005     Barbour County    AL       24686\n",
       "4           1007        Bibb County    AL       22394\n",
       "5           1009      Blount County    AL       57826\n",
       "...          ...                ...   ...         ...\n",
       "3190       56037  Sweetwater County    WY       42343\n",
       "3191       56039       Teton County    WY       23464\n",
       "3192       56041       Uinta County    WY       20226\n",
       "3193       56043    Washakie County    WY        7805\n",
       "3194       56045      Weston County    WY        6927\n",
       "\n",
       "[3145 rows x 4 columns]"
      ]
     },
     "execution_count": 440,
     "metadata": {},
     "output_type": "execute_result"
    }
   ],
   "source": [
    "task2_pop = task2_pop[task2_pop['County Name'] != 'Statewide Unallocated']\n",
    "task2_pop"
   ]
  },
  {
   "cell_type": "code",
   "execution_count": 441,
   "metadata": {},
   "outputs": [],
   "source": [
    "merge1 = pd.merge(cases,task2_pop, on =\"countyFIPS\")\n",
    "merge2 = pd.merge(deaths,merge1,on =\"countyFIPS\")\n",
    "merge2 = merge2.drop(columns=['County Name_x','State_x','County Name_y','State_y'])"
   ]
  },
  {
   "cell_type": "code",
   "execution_count": 472,
   "metadata": {},
   "outputs": [
    {
     "data": {
      "text/html": [
       "<div>\n",
       "<style scoped>\n",
       "    .dataframe tbody tr th:only-of-type {\n",
       "        vertical-align: middle;\n",
       "    }\n",
       "\n",
       "    .dataframe tbody tr th {\n",
       "        vertical-align: top;\n",
       "    }\n",
       "\n",
       "    .dataframe thead th {\n",
       "        text-align: right;\n",
       "    }\n",
       "</style>\n",
       "<table border=\"1\" class=\"dataframe\">\n",
       "  <thead>\n",
       "    <tr style=\"text-align: right;\">\n",
       "      <th></th>\n",
       "      <th>countyFIPS</th>\n",
       "      <th>Estimate!!SEX AND AGE!!Total population</th>\n",
       "      <th>Margin of Error!!SEX AND AGE!!Total population</th>\n",
       "      <th>Percent!!SEX AND AGE!!Total population</th>\n",
       "      <th>Percent Margin of Error!!SEX AND AGE!!Total population</th>\n",
       "      <th>Estimate!!SEX AND AGE!!Total population!!Male</th>\n",
       "      <th>Margin of Error!!SEX AND AGE!!Total population!!Male</th>\n",
       "      <th>Percent!!SEX AND AGE!!Total population!!Male</th>\n",
       "      <th>Percent Margin of Error!!SEX AND AGE!!Total population!!Male</th>\n",
       "      <th>Estimate!!SEX AND AGE!!Total population!!Female</th>\n",
       "      <th>...</th>\n",
       "      <th>Margin of Error!!CITIZEN, VOTING AGE POPULATION!!Citizen, 18 and over population!!Female</th>\n",
       "      <th>Percent!!CITIZEN, VOTING AGE POPULATION!!Citizen, 18 and over population!!Female</th>\n",
       "      <th>Percent Margin of Error!!CITIZEN, VOTING AGE POPULATION!!Citizen, 18 and over population!!Female</th>\n",
       "      <th>County name</th>\n",
       "      <th>State_x</th>\n",
       "      <th>County Name</th>\n",
       "      <th>State_y</th>\n",
       "      <th>death_cases</th>\n",
       "      <th>newcases</th>\n",
       "      <th>population</th>\n",
       "    </tr>\n",
       "  </thead>\n",
       "  <tbody>\n",
       "    <tr>\n",
       "      <th>0</th>\n",
       "      <td>1003.0</td>\n",
       "      <td>223234</td>\n",
       "      <td>*****</td>\n",
       "      <td>223234</td>\n",
       "      <td>(X)</td>\n",
       "      <td>109192</td>\n",
       "      <td>1466</td>\n",
       "      <td>48.9</td>\n",
       "      <td>0.7</td>\n",
       "      <td>114042</td>\n",
       "      <td>...</td>\n",
       "      <td>1507</td>\n",
       "      <td>52.8</td>\n",
       "      <td>0.6</td>\n",
       "      <td>Calhoun County</td>\n",
       "      <td>Alabama</td>\n",
       "      <td>Baldwin County</td>\n",
       "      <td>AL</td>\n",
       "      <td>347.0</td>\n",
       "      <td>29234.0</td>\n",
       "      <td>223234</td>\n",
       "    </tr>\n",
       "    <tr>\n",
       "      <th>1</th>\n",
       "      <td>1015.0</td>\n",
       "      <td>113605</td>\n",
       "      <td>*****</td>\n",
       "      <td>113605</td>\n",
       "      <td>(X)</td>\n",
       "      <td>54285</td>\n",
       "      <td>701</td>\n",
       "      <td>47.8</td>\n",
       "      <td>0.6</td>\n",
       "      <td>59320</td>\n",
       "      <td>...</td>\n",
       "      <td>739</td>\n",
       "      <td>53.2</td>\n",
       "      <td>0.4</td>\n",
       "      <td>Cullman County</td>\n",
       "      <td>Alabama</td>\n",
       "      <td>Calhoun County</td>\n",
       "      <td>AL</td>\n",
       "      <td>340.0</td>\n",
       "      <td>16340.0</td>\n",
       "      <td>113605</td>\n",
       "    </tr>\n",
       "    <tr>\n",
       "      <th>2</th>\n",
       "      <td>1043.0</td>\n",
       "      <td>83768</td>\n",
       "      <td>*****</td>\n",
       "      <td>83768</td>\n",
       "      <td>(X)</td>\n",
       "      <td>40579</td>\n",
       "      <td>905</td>\n",
       "      <td>48.4</td>\n",
       "      <td>1.1</td>\n",
       "      <td>43189</td>\n",
       "      <td>...</td>\n",
       "      <td>683</td>\n",
       "      <td>52.0</td>\n",
       "      <td>0.6</td>\n",
       "      <td>DeKalb County</td>\n",
       "      <td>Alabama</td>\n",
       "      <td>Cullman County</td>\n",
       "      <td>AL</td>\n",
       "      <td>212.0</td>\n",
       "      <td>11279.0</td>\n",
       "      <td>83768</td>\n",
       "    </tr>\n",
       "    <tr>\n",
       "      <th>3</th>\n",
       "      <td>1049.0</td>\n",
       "      <td>71513</td>\n",
       "      <td>*****</td>\n",
       "      <td>71513</td>\n",
       "      <td>(X)</td>\n",
       "      <td>35688</td>\n",
       "      <td>884</td>\n",
       "      <td>49.9</td>\n",
       "      <td>1.2</td>\n",
       "      <td>35825</td>\n",
       "      <td>...</td>\n",
       "      <td>808</td>\n",
       "      <td>50.7</td>\n",
       "      <td>1.4</td>\n",
       "      <td>Elmore County</td>\n",
       "      <td>Alabama</td>\n",
       "      <td>DeKalb County</td>\n",
       "      <td>AL</td>\n",
       "      <td>197.0</td>\n",
       "      <td>10074.0</td>\n",
       "      <td>71513</td>\n",
       "    </tr>\n",
       "    <tr>\n",
       "      <th>4</th>\n",
       "      <td>1051.0</td>\n",
       "      <td>81209</td>\n",
       "      <td>*****</td>\n",
       "      <td>81209</td>\n",
       "      <td>(X)</td>\n",
       "      <td>40060</td>\n",
       "      <td>882</td>\n",
       "      <td>49.3</td>\n",
       "      <td>1.1</td>\n",
       "      <td>41149</td>\n",
       "      <td>...</td>\n",
       "      <td>418</td>\n",
       "      <td>52.5</td>\n",
       "      <td>0.6</td>\n",
       "      <td>Etowah County</td>\n",
       "      <td>Alabama</td>\n",
       "      <td>Elmore County</td>\n",
       "      <td>AL</td>\n",
       "      <td>226.0</td>\n",
       "      <td>11711.0</td>\n",
       "      <td>81209</td>\n",
       "    </tr>\n",
       "    <tr>\n",
       "      <th>...</th>\n",
       "      <td>...</td>\n",
       "      <td>...</td>\n",
       "      <td>...</td>\n",
       "      <td>...</td>\n",
       "      <td>...</td>\n",
       "      <td>...</td>\n",
       "      <td>...</td>\n",
       "      <td>...</td>\n",
       "      <td>...</td>\n",
       "      <td>...</td>\n",
       "      <td>...</td>\n",
       "      <td>...</td>\n",
       "      <td>...</td>\n",
       "      <td>...</td>\n",
       "      <td>...</td>\n",
       "      <td>...</td>\n",
       "      <td>...</td>\n",
       "      <td>...</td>\n",
       "      <td>...</td>\n",
       "      <td>...</td>\n",
       "      <td>...</td>\n",
       "    </tr>\n",
       "    <tr>\n",
       "      <th>824</th>\n",
       "      <td>55133.0</td>\n",
       "      <td>404198</td>\n",
       "      <td>*****</td>\n",
       "      <td>404198</td>\n",
       "      <td>(X)</td>\n",
       "      <td>199198</td>\n",
       "      <td>745</td>\n",
       "      <td>49.3</td>\n",
       "      <td>0.2</td>\n",
       "      <td>205000</td>\n",
       "      <td>...</td>\n",
       "      <td>1260</td>\n",
       "      <td>51.3</td>\n",
       "      <td>0.2</td>\n",
       "      <td>Winnebago County</td>\n",
       "      <td>Wisconsin</td>\n",
       "      <td>Waukesha County</td>\n",
       "      <td>WI</td>\n",
       "      <td>593.0</td>\n",
       "      <td>51878.0</td>\n",
       "      <td>404198</td>\n",
       "    </tr>\n",
       "    <tr>\n",
       "      <th>825</th>\n",
       "      <td>55139.0</td>\n",
       "      <td>171907</td>\n",
       "      <td>*****</td>\n",
       "      <td>171907</td>\n",
       "      <td>(X)</td>\n",
       "      <td>86978</td>\n",
       "      <td>630</td>\n",
       "      <td>50.6</td>\n",
       "      <td>0.4</td>\n",
       "      <td>84929</td>\n",
       "      <td>...</td>\n",
       "      <td>1072</td>\n",
       "      <td>49.8</td>\n",
       "      <td>0.4</td>\n",
       "      <td>Wood County</td>\n",
       "      <td>Wisconsin</td>\n",
       "      <td>Winnebago County</td>\n",
       "      <td>WI</td>\n",
       "      <td>204.0</td>\n",
       "      <td>22202.0</td>\n",
       "      <td>171907</td>\n",
       "    </tr>\n",
       "    <tr>\n",
       "      <th>826</th>\n",
       "      <td>55141.0</td>\n",
       "      <td>72999</td>\n",
       "      <td>*****</td>\n",
       "      <td>72999</td>\n",
       "      <td>(X)</td>\n",
       "      <td>35862</td>\n",
       "      <td>283</td>\n",
       "      <td>49.1</td>\n",
       "      <td>0.4</td>\n",
       "      <td>37137</td>\n",
       "      <td>...</td>\n",
       "      <td>290</td>\n",
       "      <td>51.3</td>\n",
       "      <td>0.5</td>\n",
       "      <td>Laramie County</td>\n",
       "      <td>Wyoming</td>\n",
       "      <td>Wood County</td>\n",
       "      <td>WI</td>\n",
       "      <td>94.0</td>\n",
       "      <td>7995.0</td>\n",
       "      <td>72999</td>\n",
       "    </tr>\n",
       "    <tr>\n",
       "      <th>827</th>\n",
       "      <td>56021.0</td>\n",
       "      <td>99500</td>\n",
       "      <td>*****</td>\n",
       "      <td>99500</td>\n",
       "      <td>(X)</td>\n",
       "      <td>50766</td>\n",
       "      <td>1034</td>\n",
       "      <td>51.0</td>\n",
       "      <td>1.0</td>\n",
       "      <td>48734</td>\n",
       "      <td>...</td>\n",
       "      <td>808</td>\n",
       "      <td>49.9</td>\n",
       "      <td>1.0</td>\n",
       "      <td>Natrona County</td>\n",
       "      <td>Wyoming</td>\n",
       "      <td>Laramie County</td>\n",
       "      <td>WY</td>\n",
       "      <td>137.0</td>\n",
       "      <td>12215.0</td>\n",
       "      <td>99500</td>\n",
       "    </tr>\n",
       "    <tr>\n",
       "      <th>828</th>\n",
       "      <td>56025.0</td>\n",
       "      <td>79858</td>\n",
       "      <td>*****</td>\n",
       "      <td>79858</td>\n",
       "      <td>(X)</td>\n",
       "      <td>40278</td>\n",
       "      <td>758</td>\n",
       "      <td>50.4</td>\n",
       "      <td>0.9</td>\n",
       "      <td>39580</td>\n",
       "      <td>...</td>\n",
       "      <td>645</td>\n",
       "      <td>50.8</td>\n",
       "      <td>0.8</td>\n",
       "      <td>Arecibo Municipio</td>\n",
       "      <td>Puerto Rico</td>\n",
       "      <td>Natrona County</td>\n",
       "      <td>WY</td>\n",
       "      <td>143.0</td>\n",
       "      <td>8854.0</td>\n",
       "      <td>79858</td>\n",
       "    </tr>\n",
       "  </tbody>\n",
       "</table>\n",
       "<p>829 rows × 364 columns</p>\n",
       "</div>"
      ],
      "text/plain": [
       "     countyFIPS Estimate!!SEX AND AGE!!Total population  \\\n",
       "0        1003.0                                  223234   \n",
       "1        1015.0                                  113605   \n",
       "2        1043.0                                   83768   \n",
       "3        1049.0                                   71513   \n",
       "4        1051.0                                   81209   \n",
       "..          ...                                     ...   \n",
       "824     55133.0                                  404198   \n",
       "825     55139.0                                  171907   \n",
       "826     55141.0                                   72999   \n",
       "827     56021.0                                   99500   \n",
       "828     56025.0                                   79858   \n",
       "\n",
       "    Margin of Error!!SEX AND AGE!!Total population  \\\n",
       "0                                            *****   \n",
       "1                                            *****   \n",
       "2                                            *****   \n",
       "3                                            *****   \n",
       "4                                            *****   \n",
       "..                                             ...   \n",
       "824                                          *****   \n",
       "825                                          *****   \n",
       "826                                          *****   \n",
       "827                                          *****   \n",
       "828                                          *****   \n",
       "\n",
       "    Percent!!SEX AND AGE!!Total population  \\\n",
       "0                                   223234   \n",
       "1                                   113605   \n",
       "2                                    83768   \n",
       "3                                    71513   \n",
       "4                                    81209   \n",
       "..                                     ...   \n",
       "824                                 404198   \n",
       "825                                 171907   \n",
       "826                                  72999   \n",
       "827                                  99500   \n",
       "828                                  79858   \n",
       "\n",
       "    Percent Margin of Error!!SEX AND AGE!!Total population  \\\n",
       "0                                                  (X)       \n",
       "1                                                  (X)       \n",
       "2                                                  (X)       \n",
       "3                                                  (X)       \n",
       "4                                                  (X)       \n",
       "..                                                 ...       \n",
       "824                                                (X)       \n",
       "825                                                (X)       \n",
       "826                                                (X)       \n",
       "827                                                (X)       \n",
       "828                                                (X)       \n",
       "\n",
       "    Estimate!!SEX AND AGE!!Total population!!Male  \\\n",
       "0                                          109192   \n",
       "1                                           54285   \n",
       "2                                           40579   \n",
       "3                                           35688   \n",
       "4                                           40060   \n",
       "..                                            ...   \n",
       "824                                        199198   \n",
       "825                                         86978   \n",
       "826                                         35862   \n",
       "827                                         50766   \n",
       "828                                         40278   \n",
       "\n",
       "    Margin of Error!!SEX AND AGE!!Total population!!Male  \\\n",
       "0                                                 1466     \n",
       "1                                                  701     \n",
       "2                                                  905     \n",
       "3                                                  884     \n",
       "4                                                  882     \n",
       "..                                                 ...     \n",
       "824                                                745     \n",
       "825                                                630     \n",
       "826                                                283     \n",
       "827                                               1034     \n",
       "828                                                758     \n",
       "\n",
       "    Percent!!SEX AND AGE!!Total population!!Male  \\\n",
       "0                                           48.9   \n",
       "1                                           47.8   \n",
       "2                                           48.4   \n",
       "3                                           49.9   \n",
       "4                                           49.3   \n",
       "..                                           ...   \n",
       "824                                         49.3   \n",
       "825                                         50.6   \n",
       "826                                         49.1   \n",
       "827                                         51.0   \n",
       "828                                         50.4   \n",
       "\n",
       "    Percent Margin of Error!!SEX AND AGE!!Total population!!Male  \\\n",
       "0                                                  0.7             \n",
       "1                                                  0.6             \n",
       "2                                                  1.1             \n",
       "3                                                  1.2             \n",
       "4                                                  1.1             \n",
       "..                                                 ...             \n",
       "824                                                0.2             \n",
       "825                                                0.4             \n",
       "826                                                0.4             \n",
       "827                                                1.0             \n",
       "828                                                0.9             \n",
       "\n",
       "    Estimate!!SEX AND AGE!!Total population!!Female  ...  \\\n",
       "0                                            114042  ...   \n",
       "1                                             59320  ...   \n",
       "2                                             43189  ...   \n",
       "3                                             35825  ...   \n",
       "4                                             41149  ...   \n",
       "..                                              ...  ...   \n",
       "824                                          205000  ...   \n",
       "825                                           84929  ...   \n",
       "826                                           37137  ...   \n",
       "827                                           48734  ...   \n",
       "828                                           39580  ...   \n",
       "\n",
       "    Margin of Error!!CITIZEN, VOTING AGE POPULATION!!Citizen, 18 and over population!!Female  \\\n",
       "0                                                 1507                                         \n",
       "1                                                  739                                         \n",
       "2                                                  683                                         \n",
       "3                                                  808                                         \n",
       "4                                                  418                                         \n",
       "..                                                 ...                                         \n",
       "824                                               1260                                         \n",
       "825                                               1072                                         \n",
       "826                                                290                                         \n",
       "827                                                808                                         \n",
       "828                                                645                                         \n",
       "\n",
       "    Percent!!CITIZEN, VOTING AGE POPULATION!!Citizen, 18 and over population!!Female  \\\n",
       "0                                                 52.8                                 \n",
       "1                                                 53.2                                 \n",
       "2                                                 52.0                                 \n",
       "3                                                 50.7                                 \n",
       "4                                                 52.5                                 \n",
       "..                                                 ...                                 \n",
       "824                                               51.3                                 \n",
       "825                                               49.8                                 \n",
       "826                                               51.3                                 \n",
       "827                                               49.9                                 \n",
       "828                                               50.8                                 \n",
       "\n",
       "    Percent Margin of Error!!CITIZEN, VOTING AGE POPULATION!!Citizen, 18 and over population!!Female  \\\n",
       "0                                                  0.6                                                 \n",
       "1                                                  0.4                                                 \n",
       "2                                                  0.6                                                 \n",
       "3                                                  1.4                                                 \n",
       "4                                                  0.6                                                 \n",
       "..                                                 ...                                                 \n",
       "824                                                0.2                                                 \n",
       "825                                                0.4                                                 \n",
       "826                                                0.5                                                 \n",
       "827                                                1.0                                                 \n",
       "828                                                0.8                                                 \n",
       "\n",
       "           County name       State_x        County Name State_y death_cases  \\\n",
       "0       Calhoun County       Alabama    Baldwin County       AL       347.0   \n",
       "1       Cullman County       Alabama    Calhoun County       AL       340.0   \n",
       "2        DeKalb County       Alabama    Cullman County       AL       212.0   \n",
       "3        Elmore County       Alabama     DeKalb County       AL       197.0   \n",
       "4        Etowah County       Alabama     Elmore County       AL       226.0   \n",
       "..                 ...           ...                ...     ...         ...   \n",
       "824   Winnebago County     Wisconsin   Waukesha County       WI       593.0   \n",
       "825        Wood County     Wisconsin  Winnebago County       WI       204.0   \n",
       "826     Laramie County       Wyoming       Wood County       WI        94.0   \n",
       "827     Natrona County       Wyoming    Laramie County       WY       137.0   \n",
       "828  Arecibo Municipio   Puerto Rico    Natrona County       WY       143.0   \n",
       "\n",
       "    newcases population  \n",
       "0    29234.0     223234  \n",
       "1    16340.0     113605  \n",
       "2    11279.0      83768  \n",
       "3    10074.0      71513  \n",
       "4    11711.0      81209  \n",
       "..       ...        ...  \n",
       "824  51878.0     404198  \n",
       "825  22202.0     171907  \n",
       "826   7995.0      72999  \n",
       "827  12215.0      99500  \n",
       "828   8854.0      79858  \n",
       "\n",
       "[829 rows x 364 columns]"
      ]
     },
     "execution_count": 472,
     "metadata": {},
     "output_type": "execute_result"
    }
   ],
   "source": [
    "census_merge = pd.merge(add_county_state,merge2,on=\"countyFIPS\")\n",
    "census_merge"
   ]
  },
  {
   "cell_type": "markdown",
   "metadata": {},
   "source": [
    "## Perform correlation between states"
   ]
  },
  {
   "cell_type": "markdown",
   "metadata": {},
   "source": [
    "#### selecting three variables Estimate!!SEX AND AGE!!Total population!!Male , Estimate!!SEX AND AGE!!Total population!!Female, Estimate!!CITIZEN, VOTING AGE POPULATION!!Citizen, 18 and over population!!Female"
   ]
  },
  {
   "cell_type": "markdown",
   "metadata": {},
   "source": [
    "## California State"
   ]
  },
  {
   "cell_type": "code",
   "execution_count": 513,
   "metadata": {},
   "outputs": [],
   "source": [
    "def calculate_corr(state, types):\n",
    "    if(types == 'cases'):\n",
    "        selected_frame = census_merge[['State_y','Estimate!!SEX AND AGE!!Total population!!Male','Estimate!!SEX AND AGE!!Total population!!Female','Estimate!!CITIZEN, VOTING AGE POPULATION!!Citizen, 18 and over population!!Female','population','newcases']]\n",
    "    else:\n",
    "        selected_frame = census_merge[['State_y','Estimate!!SEX AND AGE!!Total population!!Male','Estimate!!SEX AND AGE!!Total population!!Female','Estimate!!CITIZEN, VOTING AGE POPULATION!!Citizen, 18 and over population!!Female','population','death_cases']]\n",
    "    selected_frame = selected_frame[selected_frame['State_y']==state]\n",
    "    selected_frame = selected_frame.set_index(['State_y'])\n",
    "    selected_frame = selected_frame.astype('int32')\n",
    "    return selected_frame.corr()"
   ]
  },
  {
   "cell_type": "code",
   "execution_count": 512,
   "metadata": {},
   "outputs": [
    {
     "data": {
      "text/html": [
       "<div>\n",
       "<style scoped>\n",
       "    .dataframe tbody tr th:only-of-type {\n",
       "        vertical-align: middle;\n",
       "    }\n",
       "\n",
       "    .dataframe tbody tr th {\n",
       "        vertical-align: top;\n",
       "    }\n",
       "\n",
       "    .dataframe thead th {\n",
       "        text-align: right;\n",
       "    }\n",
       "</style>\n",
       "<table border=\"1\" class=\"dataframe\">\n",
       "  <thead>\n",
       "    <tr style=\"text-align: right;\">\n",
       "      <th></th>\n",
       "      <th>Estimate!!SEX AND AGE!!Total population!!Male</th>\n",
       "      <th>Estimate!!SEX AND AGE!!Total population!!Female</th>\n",
       "      <th>Estimate!!CITIZEN, VOTING AGE POPULATION!!Citizen, 18 and over population!!Female</th>\n",
       "      <th>population</th>\n",
       "      <th>newcases</th>\n",
       "    </tr>\n",
       "  </thead>\n",
       "  <tbody>\n",
       "    <tr>\n",
       "      <th>Estimate!!SEX AND AGE!!Total population!!Male</th>\n",
       "      <td>1.000000</td>\n",
       "      <td>0.999837</td>\n",
       "      <td>0.999279</td>\n",
       "      <td>0.999958</td>\n",
       "      <td>0.984117</td>\n",
       "    </tr>\n",
       "    <tr>\n",
       "      <th>Estimate!!SEX AND AGE!!Total population!!Female</th>\n",
       "      <td>0.999837</td>\n",
       "      <td>1.000000</td>\n",
       "      <td>0.999399</td>\n",
       "      <td>0.999960</td>\n",
       "      <td>0.985066</td>\n",
       "    </tr>\n",
       "    <tr>\n",
       "      <th>Estimate!!CITIZEN, VOTING AGE POPULATION!!Citizen, 18 and over population!!Female</th>\n",
       "      <td>0.999279</td>\n",
       "      <td>0.999399</td>\n",
       "      <td>1.000000</td>\n",
       "      <td>0.999381</td>\n",
       "      <td>0.981312</td>\n",
       "    </tr>\n",
       "    <tr>\n",
       "      <th>population</th>\n",
       "      <td>0.999958</td>\n",
       "      <td>0.999960</td>\n",
       "      <td>0.999381</td>\n",
       "      <td>1.000000</td>\n",
       "      <td>0.984637</td>\n",
       "    </tr>\n",
       "    <tr>\n",
       "      <th>newcases</th>\n",
       "      <td>0.984117</td>\n",
       "      <td>0.985066</td>\n",
       "      <td>0.981312</td>\n",
       "      <td>0.984637</td>\n",
       "      <td>1.000000</td>\n",
       "    </tr>\n",
       "  </tbody>\n",
       "</table>\n",
       "</div>"
      ],
      "text/plain": [
       "                                                    Estimate!!SEX AND AGE!!Total population!!Male  \\\n",
       "Estimate!!SEX AND AGE!!Total population!!Male                                            1.000000   \n",
       "Estimate!!SEX AND AGE!!Total population!!Female                                          0.999837   \n",
       "Estimate!!CITIZEN, VOTING AGE POPULATION!!Citiz...                                       0.999279   \n",
       "population                                                                               0.999958   \n",
       "newcases                                                                                 0.984117   \n",
       "\n",
       "                                                    Estimate!!SEX AND AGE!!Total population!!Female  \\\n",
       "Estimate!!SEX AND AGE!!Total population!!Male                                              0.999837   \n",
       "Estimate!!SEX AND AGE!!Total population!!Female                                            1.000000   \n",
       "Estimate!!CITIZEN, VOTING AGE POPULATION!!Citiz...                                         0.999399   \n",
       "population                                                                                 0.999960   \n",
       "newcases                                                                                   0.985066   \n",
       "\n",
       "                                                    Estimate!!CITIZEN, VOTING AGE POPULATION!!Citizen, 18 and over population!!Female  \\\n",
       "Estimate!!SEX AND AGE!!Total population!!Male                                                0.999279                                   \n",
       "Estimate!!SEX AND AGE!!Total population!!Female                                              0.999399                                   \n",
       "Estimate!!CITIZEN, VOTING AGE POPULATION!!Citiz...                                           1.000000                                   \n",
       "population                                                                                   0.999381                                   \n",
       "newcases                                                                                     0.981312                                   \n",
       "\n",
       "                                                    population  newcases  \n",
       "Estimate!!SEX AND AGE!!Total population!!Male         0.999958  0.984117  \n",
       "Estimate!!SEX AND AGE!!Total population!!Female       0.999960  0.985066  \n",
       "Estimate!!CITIZEN, VOTING AGE POPULATION!!Citiz...    0.999381  0.981312  \n",
       "population                                            1.000000  0.984637  \n",
       "newcases                                              0.984637  1.000000  "
      ]
     },
     "execution_count": 512,
     "metadata": {},
     "output_type": "execute_result"
    }
   ],
   "source": [
    "ca_corr = calculate_corr('CA','cases')\n",
    "ca_corr"
   ]
  },
  {
   "cell_type": "code",
   "execution_count": 514,
   "metadata": {},
   "outputs": [
    {
     "data": {
      "text/html": [
       "<div>\n",
       "<style scoped>\n",
       "    .dataframe tbody tr th:only-of-type {\n",
       "        vertical-align: middle;\n",
       "    }\n",
       "\n",
       "    .dataframe tbody tr th {\n",
       "        vertical-align: top;\n",
       "    }\n",
       "\n",
       "    .dataframe thead th {\n",
       "        text-align: right;\n",
       "    }\n",
       "</style>\n",
       "<table border=\"1\" class=\"dataframe\">\n",
       "  <thead>\n",
       "    <tr style=\"text-align: right;\">\n",
       "      <th></th>\n",
       "      <th>Estimate!!SEX AND AGE!!Total population!!Male</th>\n",
       "      <th>Estimate!!SEX AND AGE!!Total population!!Female</th>\n",
       "      <th>Estimate!!CITIZEN, VOTING AGE POPULATION!!Citizen, 18 and over population!!Female</th>\n",
       "      <th>population</th>\n",
       "      <th>newcases</th>\n",
       "    </tr>\n",
       "  </thead>\n",
       "  <tbody>\n",
       "    <tr>\n",
       "      <th>Estimate!!SEX AND AGE!!Total population!!Male</th>\n",
       "      <td>1.000000</td>\n",
       "      <td>0.998635</td>\n",
       "      <td>0.997211</td>\n",
       "      <td>0.999634</td>\n",
       "      <td>0.982634</td>\n",
       "    </tr>\n",
       "    <tr>\n",
       "      <th>Estimate!!SEX AND AGE!!Total population!!Female</th>\n",
       "      <td>0.998635</td>\n",
       "      <td>1.000000</td>\n",
       "      <td>0.999253</td>\n",
       "      <td>0.999683</td>\n",
       "      <td>0.983503</td>\n",
       "    </tr>\n",
       "    <tr>\n",
       "      <th>Estimate!!CITIZEN, VOTING AGE POPULATION!!Citizen, 18 and over population!!Female</th>\n",
       "      <td>0.997211</td>\n",
       "      <td>0.999253</td>\n",
       "      <td>1.000000</td>\n",
       "      <td>0.998609</td>\n",
       "      <td>0.979866</td>\n",
       "    </tr>\n",
       "    <tr>\n",
       "      <th>population</th>\n",
       "      <td>0.999634</td>\n",
       "      <td>0.999683</td>\n",
       "      <td>0.998609</td>\n",
       "      <td>1.000000</td>\n",
       "      <td>0.983420</td>\n",
       "    </tr>\n",
       "    <tr>\n",
       "      <th>newcases</th>\n",
       "      <td>0.982634</td>\n",
       "      <td>0.983503</td>\n",
       "      <td>0.979866</td>\n",
       "      <td>0.983420</td>\n",
       "      <td>1.000000</td>\n",
       "    </tr>\n",
       "  </tbody>\n",
       "</table>\n",
       "</div>"
      ],
      "text/plain": [
       "                                                    Estimate!!SEX AND AGE!!Total population!!Male  \\\n",
       "Estimate!!SEX AND AGE!!Total population!!Male                                            1.000000   \n",
       "Estimate!!SEX AND AGE!!Total population!!Female                                          0.998635   \n",
       "Estimate!!CITIZEN, VOTING AGE POPULATION!!Citiz...                                       0.997211   \n",
       "population                                                                               0.999634   \n",
       "newcases                                                                                 0.982634   \n",
       "\n",
       "                                                    Estimate!!SEX AND AGE!!Total population!!Female  \\\n",
       "Estimate!!SEX AND AGE!!Total population!!Male                                              0.998635   \n",
       "Estimate!!SEX AND AGE!!Total population!!Female                                            1.000000   \n",
       "Estimate!!CITIZEN, VOTING AGE POPULATION!!Citiz...                                         0.999253   \n",
       "population                                                                                 0.999683   \n",
       "newcases                                                                                   0.983503   \n",
       "\n",
       "                                                    Estimate!!CITIZEN, VOTING AGE POPULATION!!Citizen, 18 and over population!!Female  \\\n",
       "Estimate!!SEX AND AGE!!Total population!!Male                                                0.997211                                   \n",
       "Estimate!!SEX AND AGE!!Total population!!Female                                              0.999253                                   \n",
       "Estimate!!CITIZEN, VOTING AGE POPULATION!!Citiz...                                           1.000000                                   \n",
       "population                                                                                   0.998609                                   \n",
       "newcases                                                                                     0.979866                                   \n",
       "\n",
       "                                                    population  newcases  \n",
       "Estimate!!SEX AND AGE!!Total population!!Male         0.999634  0.982634  \n",
       "Estimate!!SEX AND AGE!!Total population!!Female       0.999683  0.983503  \n",
       "Estimate!!CITIZEN, VOTING AGE POPULATION!!Citiz...    0.998609  0.979866  \n",
       "population                                            1.000000  0.983420  \n",
       "newcases                                              0.983420  1.000000  "
      ]
     },
     "execution_count": 514,
     "metadata": {},
     "output_type": "execute_result"
    }
   ],
   "source": [
    "nc_corr = calculate_corr('NC', 'cases')\n",
    "nc_corr"
   ]
  },
  {
   "cell_type": "markdown",
   "metadata": {},
   "source": [
    "#### Normalize the data"
   ]
  },
  {
   "cell_type": "code",
   "execution_count": 525,
   "metadata": {},
   "outputs": [],
   "source": [
    "def calculate_corr_norm(state,types):\n",
    "    if(types == 'cases'):\n",
    "        selected_frame_norm = census_merge[['State_y','Estimate!!SEX AND AGE!!Total population!!Male','Estimate!!SEX AND AGE!!Total population!!Female','Estimate!!CITIZEN, VOTING AGE POPULATION!!Citizen, 18 and over population!!Female','population','newcases']]\n",
    "    else:\n",
    "        selected_frame_norm = census_merge[['State_y','Estimate!!SEX AND AGE!!Total population!!Male','Estimate!!SEX AND AGE!!Total population!!Female','Estimate!!CITIZEN, VOTING AGE POPULATION!!Citizen, 18 and over population!!Female','population','death_cases']]\n",
    "    selected_frame_norm = selected_frame_norm[selected_frame_norm['State_y']==state]\n",
    "    selected_frame_norm = selected_frame_norm.set_index(['State_y'])\n",
    "    selected_frame_norm = selected_frame_norm.astype('int32')\n",
    "    selected_frame_norm = round(((selected_frame_norm.div(selected_frame_norm['population'], axis=0))*100000).astype(int))\n",
    "    selected_frame_norm = selected_frame_norm.drop(columns=['population'])   \n",
    "    return selected_frame_norm.corr()"
   ]
  },
  {
   "cell_type": "code",
   "execution_count": 526,
   "metadata": {},
   "outputs": [
    {
     "data": {
      "text/html": [
       "<div>\n",
       "<style scoped>\n",
       "    .dataframe tbody tr th:only-of-type {\n",
       "        vertical-align: middle;\n",
       "    }\n",
       "\n",
       "    .dataframe tbody tr th {\n",
       "        vertical-align: top;\n",
       "    }\n",
       "\n",
       "    .dataframe thead th {\n",
       "        text-align: right;\n",
       "    }\n",
       "</style>\n",
       "<table border=\"1\" class=\"dataframe\">\n",
       "  <thead>\n",
       "    <tr style=\"text-align: right;\">\n",
       "      <th></th>\n",
       "      <th>Estimate!!SEX AND AGE!!Total population!!Male</th>\n",
       "      <th>Estimate!!SEX AND AGE!!Total population!!Female</th>\n",
       "      <th>Estimate!!CITIZEN, VOTING AGE POPULATION!!Citizen, 18 and over population!!Female</th>\n",
       "      <th>newcases</th>\n",
       "    </tr>\n",
       "  </thead>\n",
       "  <tbody>\n",
       "    <tr>\n",
       "      <th>Estimate!!SEX AND AGE!!Total population!!Male</th>\n",
       "      <td>1.000000</td>\n",
       "      <td>-1.000000</td>\n",
       "      <td>0.042585</td>\n",
       "      <td>-0.434392</td>\n",
       "    </tr>\n",
       "    <tr>\n",
       "      <th>Estimate!!SEX AND AGE!!Total population!!Female</th>\n",
       "      <td>-1.000000</td>\n",
       "      <td>1.000000</td>\n",
       "      <td>-0.042585</td>\n",
       "      <td>0.434392</td>\n",
       "    </tr>\n",
       "    <tr>\n",
       "      <th>Estimate!!CITIZEN, VOTING AGE POPULATION!!Citizen, 18 and over population!!Female</th>\n",
       "      <td>0.042585</td>\n",
       "      <td>-0.042585</td>\n",
       "      <td>1.000000</td>\n",
       "      <td>-0.603842</td>\n",
       "    </tr>\n",
       "    <tr>\n",
       "      <th>newcases</th>\n",
       "      <td>-0.434392</td>\n",
       "      <td>0.434392</td>\n",
       "      <td>-0.603842</td>\n",
       "      <td>1.000000</td>\n",
       "    </tr>\n",
       "  </tbody>\n",
       "</table>\n",
       "</div>"
      ],
      "text/plain": [
       "                                                    Estimate!!SEX AND AGE!!Total population!!Male  \\\n",
       "Estimate!!SEX AND AGE!!Total population!!Male                                            1.000000   \n",
       "Estimate!!SEX AND AGE!!Total population!!Female                                         -1.000000   \n",
       "Estimate!!CITIZEN, VOTING AGE POPULATION!!Citiz...                                       0.042585   \n",
       "newcases                                                                                -0.434392   \n",
       "\n",
       "                                                    Estimate!!SEX AND AGE!!Total population!!Female  \\\n",
       "Estimate!!SEX AND AGE!!Total population!!Male                                             -1.000000   \n",
       "Estimate!!SEX AND AGE!!Total population!!Female                                            1.000000   \n",
       "Estimate!!CITIZEN, VOTING AGE POPULATION!!Citiz...                                        -0.042585   \n",
       "newcases                                                                                   0.434392   \n",
       "\n",
       "                                                    Estimate!!CITIZEN, VOTING AGE POPULATION!!Citizen, 18 and over population!!Female  \\\n",
       "Estimate!!SEX AND AGE!!Total population!!Male                                                0.042585                                   \n",
       "Estimate!!SEX AND AGE!!Total population!!Female                                             -0.042585                                   \n",
       "Estimate!!CITIZEN, VOTING AGE POPULATION!!Citiz...                                           1.000000                                   \n",
       "newcases                                                                                    -0.603842                                   \n",
       "\n",
       "                                                    newcases  \n",
       "Estimate!!SEX AND AGE!!Total population!!Male      -0.434392  \n",
       "Estimate!!SEX AND AGE!!Total population!!Female     0.434392  \n",
       "Estimate!!CITIZEN, VOTING AGE POPULATION!!Citiz... -0.603842  \n",
       "newcases                                            1.000000  "
      ]
     },
     "execution_count": 526,
     "metadata": {},
     "output_type": "execute_result"
    }
   ],
   "source": [
    "ny_corr_norm = calculate_corr_norm('NY','cases')\n",
    "ny_corr_norm"
   ]
  },
  {
   "cell_type": "code",
   "execution_count": 527,
   "metadata": {},
   "outputs": [
    {
     "data": {
      "text/html": [
       "<div>\n",
       "<style scoped>\n",
       "    .dataframe tbody tr th:only-of-type {\n",
       "        vertical-align: middle;\n",
       "    }\n",
       "\n",
       "    .dataframe tbody tr th {\n",
       "        vertical-align: top;\n",
       "    }\n",
       "\n",
       "    .dataframe thead th {\n",
       "        text-align: right;\n",
       "    }\n",
       "</style>\n",
       "<table border=\"1\" class=\"dataframe\">\n",
       "  <thead>\n",
       "    <tr style=\"text-align: right;\">\n",
       "      <th></th>\n",
       "      <th>Estimate!!SEX AND AGE!!Total population!!Male</th>\n",
       "      <th>Estimate!!SEX AND AGE!!Total population!!Female</th>\n",
       "      <th>Estimate!!CITIZEN, VOTING AGE POPULATION!!Citizen, 18 and over population!!Female</th>\n",
       "      <th>newcases</th>\n",
       "    </tr>\n",
       "  </thead>\n",
       "  <tbody>\n",
       "    <tr>\n",
       "      <th>Estimate!!SEX AND AGE!!Total population!!Male</th>\n",
       "      <td>1.000000</td>\n",
       "      <td>-1.000000</td>\n",
       "      <td>-0.655974</td>\n",
       "      <td>0.577321</td>\n",
       "    </tr>\n",
       "    <tr>\n",
       "      <th>Estimate!!SEX AND AGE!!Total population!!Female</th>\n",
       "      <td>-1.000000</td>\n",
       "      <td>1.000000</td>\n",
       "      <td>0.655974</td>\n",
       "      <td>-0.577321</td>\n",
       "    </tr>\n",
       "    <tr>\n",
       "      <th>Estimate!!CITIZEN, VOTING AGE POPULATION!!Citizen, 18 and over population!!Female</th>\n",
       "      <td>-0.655974</td>\n",
       "      <td>0.655974</td>\n",
       "      <td>1.000000</td>\n",
       "      <td>-0.760211</td>\n",
       "    </tr>\n",
       "    <tr>\n",
       "      <th>newcases</th>\n",
       "      <td>0.577321</td>\n",
       "      <td>-0.577321</td>\n",
       "      <td>-0.760211</td>\n",
       "      <td>1.000000</td>\n",
       "    </tr>\n",
       "  </tbody>\n",
       "</table>\n",
       "</div>"
      ],
      "text/plain": [
       "                                                    Estimate!!SEX AND AGE!!Total population!!Male  \\\n",
       "Estimate!!SEX AND AGE!!Total population!!Male                                            1.000000   \n",
       "Estimate!!SEX AND AGE!!Total population!!Female                                         -1.000000   \n",
       "Estimate!!CITIZEN, VOTING AGE POPULATION!!Citiz...                                      -0.655974   \n",
       "newcases                                                                                 0.577321   \n",
       "\n",
       "                                                    Estimate!!SEX AND AGE!!Total population!!Female  \\\n",
       "Estimate!!SEX AND AGE!!Total population!!Male                                             -1.000000   \n",
       "Estimate!!SEX AND AGE!!Total population!!Female                                            1.000000   \n",
       "Estimate!!CITIZEN, VOTING AGE POPULATION!!Citiz...                                         0.655974   \n",
       "newcases                                                                                  -0.577321   \n",
       "\n",
       "                                                    Estimate!!CITIZEN, VOTING AGE POPULATION!!Citizen, 18 and over population!!Female  \\\n",
       "Estimate!!SEX AND AGE!!Total population!!Male                                               -0.655974                                   \n",
       "Estimate!!SEX AND AGE!!Total population!!Female                                              0.655974                                   \n",
       "Estimate!!CITIZEN, VOTING AGE POPULATION!!Citiz...                                           1.000000                                   \n",
       "newcases                                                                                    -0.760211                                   \n",
       "\n",
       "                                                    newcases  \n",
       "Estimate!!SEX AND AGE!!Total population!!Male       0.577321  \n",
       "Estimate!!SEX AND AGE!!Total population!!Female    -0.577321  \n",
       "Estimate!!CITIZEN, VOTING AGE POPULATION!!Citiz... -0.760211  \n",
       "newcases                                            1.000000  "
      ]
     },
     "execution_count": 527,
     "metadata": {},
     "output_type": "execute_result"
    }
   ],
   "source": [
    "ca_corr_norm = calculate_corr_norm('CA','cases')\n",
    "ca_corr_norm"
   ]
  },
  {
   "cell_type": "code",
   "execution_count": 528,
   "metadata": {},
   "outputs": [
    {
     "data": {
      "text/html": [
       "<div>\n",
       "<style scoped>\n",
       "    .dataframe tbody tr th:only-of-type {\n",
       "        vertical-align: middle;\n",
       "    }\n",
       "\n",
       "    .dataframe tbody tr th {\n",
       "        vertical-align: top;\n",
       "    }\n",
       "\n",
       "    .dataframe thead th {\n",
       "        text-align: right;\n",
       "    }\n",
       "</style>\n",
       "<table border=\"1\" class=\"dataframe\">\n",
       "  <thead>\n",
       "    <tr style=\"text-align: right;\">\n",
       "      <th></th>\n",
       "      <th>Estimate!!SEX AND AGE!!Total population!!Male</th>\n",
       "      <th>Estimate!!SEX AND AGE!!Total population!!Female</th>\n",
       "      <th>Estimate!!CITIZEN, VOTING AGE POPULATION!!Citizen, 18 and over population!!Female</th>\n",
       "      <th>population</th>\n",
       "      <th>death_cases</th>\n",
       "    </tr>\n",
       "  </thead>\n",
       "  <tbody>\n",
       "    <tr>\n",
       "      <th>Estimate!!SEX AND AGE!!Total population!!Male</th>\n",
       "      <td>1.000000</td>\n",
       "      <td>0.999837</td>\n",
       "      <td>0.999279</td>\n",
       "      <td>0.999958</td>\n",
       "      <td>0.969729</td>\n",
       "    </tr>\n",
       "    <tr>\n",
       "      <th>Estimate!!SEX AND AGE!!Total population!!Female</th>\n",
       "      <td>0.999837</td>\n",
       "      <td>1.000000</td>\n",
       "      <td>0.999399</td>\n",
       "      <td>0.999960</td>\n",
       "      <td>0.971916</td>\n",
       "    </tr>\n",
       "    <tr>\n",
       "      <th>Estimate!!CITIZEN, VOTING AGE POPULATION!!Citizen, 18 and over population!!Female</th>\n",
       "      <td>0.999279</td>\n",
       "      <td>0.999399</td>\n",
       "      <td>1.000000</td>\n",
       "      <td>0.999381</td>\n",
       "      <td>0.966431</td>\n",
       "    </tr>\n",
       "    <tr>\n",
       "      <th>population</th>\n",
       "      <td>0.999958</td>\n",
       "      <td>0.999960</td>\n",
       "      <td>0.999381</td>\n",
       "      <td>1.000000</td>\n",
       "      <td>0.970875</td>\n",
       "    </tr>\n",
       "    <tr>\n",
       "      <th>death_cases</th>\n",
       "      <td>0.969729</td>\n",
       "      <td>0.971916</td>\n",
       "      <td>0.966431</td>\n",
       "      <td>0.970875</td>\n",
       "      <td>1.000000</td>\n",
       "    </tr>\n",
       "  </tbody>\n",
       "</table>\n",
       "</div>"
      ],
      "text/plain": [
       "                                                    Estimate!!SEX AND AGE!!Total population!!Male  \\\n",
       "Estimate!!SEX AND AGE!!Total population!!Male                                            1.000000   \n",
       "Estimate!!SEX AND AGE!!Total population!!Female                                          0.999837   \n",
       "Estimate!!CITIZEN, VOTING AGE POPULATION!!Citiz...                                       0.999279   \n",
       "population                                                                               0.999958   \n",
       "death_cases                                                                              0.969729   \n",
       "\n",
       "                                                    Estimate!!SEX AND AGE!!Total population!!Female  \\\n",
       "Estimate!!SEX AND AGE!!Total population!!Male                                              0.999837   \n",
       "Estimate!!SEX AND AGE!!Total population!!Female                                            1.000000   \n",
       "Estimate!!CITIZEN, VOTING AGE POPULATION!!Citiz...                                         0.999399   \n",
       "population                                                                                 0.999960   \n",
       "death_cases                                                                                0.971916   \n",
       "\n",
       "                                                    Estimate!!CITIZEN, VOTING AGE POPULATION!!Citizen, 18 and over population!!Female  \\\n",
       "Estimate!!SEX AND AGE!!Total population!!Male                                                0.999279                                   \n",
       "Estimate!!SEX AND AGE!!Total population!!Female                                              0.999399                                   \n",
       "Estimate!!CITIZEN, VOTING AGE POPULATION!!Citiz...                                           1.000000                                   \n",
       "population                                                                                   0.999381                                   \n",
       "death_cases                                                                                  0.966431                                   \n",
       "\n",
       "                                                    population  death_cases  \n",
       "Estimate!!SEX AND AGE!!Total population!!Male         0.999958     0.969729  \n",
       "Estimate!!SEX AND AGE!!Total population!!Female       0.999960     0.971916  \n",
       "Estimate!!CITIZEN, VOTING AGE POPULATION!!Citiz...    0.999381     0.966431  \n",
       "population                                            1.000000     0.970875  \n",
       "death_cases                                           0.970875     1.000000  "
      ]
     },
     "execution_count": 528,
     "metadata": {},
     "output_type": "execute_result"
    }
   ],
   "source": [
    "ca_corr_death = calculate_corr('CA','death')\n",
    "ca_corr_death"
   ]
  },
  {
   "cell_type": "code",
   "execution_count": 529,
   "metadata": {},
   "outputs": [
    {
     "data": {
      "text/html": [
       "<div>\n",
       "<style scoped>\n",
       "    .dataframe tbody tr th:only-of-type {\n",
       "        vertical-align: middle;\n",
       "    }\n",
       "\n",
       "    .dataframe tbody tr th {\n",
       "        vertical-align: top;\n",
       "    }\n",
       "\n",
       "    .dataframe thead th {\n",
       "        text-align: right;\n",
       "    }\n",
       "</style>\n",
       "<table border=\"1\" class=\"dataframe\">\n",
       "  <thead>\n",
       "    <tr style=\"text-align: right;\">\n",
       "      <th></th>\n",
       "      <th>Estimate!!SEX AND AGE!!Total population!!Male</th>\n",
       "      <th>Estimate!!SEX AND AGE!!Total population!!Female</th>\n",
       "      <th>Estimate!!CITIZEN, VOTING AGE POPULATION!!Citizen, 18 and over population!!Female</th>\n",
       "      <th>death_cases</th>\n",
       "    </tr>\n",
       "  </thead>\n",
       "  <tbody>\n",
       "    <tr>\n",
       "      <th>Estimate!!SEX AND AGE!!Total population!!Male</th>\n",
       "      <td>1.000000</td>\n",
       "      <td>-1.000000</td>\n",
       "      <td>0.042585</td>\n",
       "      <td>-0.646295</td>\n",
       "    </tr>\n",
       "    <tr>\n",
       "      <th>Estimate!!SEX AND AGE!!Total population!!Female</th>\n",
       "      <td>-1.000000</td>\n",
       "      <td>1.000000</td>\n",
       "      <td>-0.042585</td>\n",
       "      <td>0.646295</td>\n",
       "    </tr>\n",
       "    <tr>\n",
       "      <th>Estimate!!CITIZEN, VOTING AGE POPULATION!!Citizen, 18 and over population!!Female</th>\n",
       "      <td>0.042585</td>\n",
       "      <td>-0.042585</td>\n",
       "      <td>1.000000</td>\n",
       "      <td>-0.653955</td>\n",
       "    </tr>\n",
       "    <tr>\n",
       "      <th>death_cases</th>\n",
       "      <td>-0.646295</td>\n",
       "      <td>0.646295</td>\n",
       "      <td>-0.653955</td>\n",
       "      <td>1.000000</td>\n",
       "    </tr>\n",
       "  </tbody>\n",
       "</table>\n",
       "</div>"
      ],
      "text/plain": [
       "                                                    Estimate!!SEX AND AGE!!Total population!!Male  \\\n",
       "Estimate!!SEX AND AGE!!Total population!!Male                                            1.000000   \n",
       "Estimate!!SEX AND AGE!!Total population!!Female                                         -1.000000   \n",
       "Estimate!!CITIZEN, VOTING AGE POPULATION!!Citiz...                                       0.042585   \n",
       "death_cases                                                                             -0.646295   \n",
       "\n",
       "                                                    Estimate!!SEX AND AGE!!Total population!!Female  \\\n",
       "Estimate!!SEX AND AGE!!Total population!!Male                                             -1.000000   \n",
       "Estimate!!SEX AND AGE!!Total population!!Female                                            1.000000   \n",
       "Estimate!!CITIZEN, VOTING AGE POPULATION!!Citiz...                                        -0.042585   \n",
       "death_cases                                                                                0.646295   \n",
       "\n",
       "                                                    Estimate!!CITIZEN, VOTING AGE POPULATION!!Citizen, 18 and over population!!Female  \\\n",
       "Estimate!!SEX AND AGE!!Total population!!Male                                                0.042585                                   \n",
       "Estimate!!SEX AND AGE!!Total population!!Female                                             -0.042585                                   \n",
       "Estimate!!CITIZEN, VOTING AGE POPULATION!!Citiz...                                           1.000000                                   \n",
       "death_cases                                                                                 -0.653955                                   \n",
       "\n",
       "                                                    death_cases  \n",
       "Estimate!!SEX AND AGE!!Total population!!Male         -0.646295  \n",
       "Estimate!!SEX AND AGE!!Total population!!Female        0.646295  \n",
       "Estimate!!CITIZEN, VOTING AGE POPULATION!!Citiz...    -0.653955  \n",
       "death_cases                                            1.000000  "
      ]
     },
     "execution_count": 529,
     "metadata": {},
     "output_type": "execute_result"
    }
   ],
   "source": [
    "ny_corr_norm = calculate_corr_norm('NY','death')\n",
    "ny_corr_norm"
   ]
  },
  {
   "cell_type": "code",
   "execution_count": null,
   "metadata": {},
   "outputs": [],
   "source": []
  },
  {
   "cell_type": "code",
   "execution_count": null,
   "metadata": {},
   "outputs": [],
   "source": []
  }
 ],
 "metadata": {
  "kernelspec": {
   "display_name": "Python 3",
   "language": "python",
   "name": "python3"
  },
  "language_info": {
   "codemirror_mode": {
    "name": "ipython",
    "version": 3
   },
   "file_extension": ".py",
   "mimetype": "text/x-python",
   "name": "python",
   "nbconvert_exporter": "python",
   "pygments_lexer": "ipython3",
   "version": "3.8.5"
  }
 },
 "nbformat": 4,
 "nbformat_minor": 4
}
